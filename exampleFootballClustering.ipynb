{
 "cells": [
  {
   "cell_type": "code",
   "execution_count": 22,
   "metadata": {},
   "outputs": [
    {
     "name": "stdout",
     "output_type": "stream",
     "text": [
      "          start_action    xG  num_passes\n",
      "0             Own Half  0.05           5\n",
      "1          Corner Kick  0.20           3\n",
      "2            Free Kick  0.15           1\n",
      "3             Throw In  0.10           2\n",
      "4  Offensive Ball Gain  0.30           7\n",
      "5             Own Half  0.25           4\n",
      "6          Corner Kick  0.12           3\n",
      "7             Throw In  0.35           2\n",
      "8            Free Kick  0.50           6\n",
      "9  Offensive Ball Gain  0.07           5\n"
     ]
    }
   ],
   "source": [
    "# Import necessary libraries\n",
    "import pandas as pd\n",
    "from sklearn.preprocessing import StandardScaler, OneHotEncoder\n",
    "from sklearn.cluster import KMeans\n",
    "from sklearn.pipeline import make_pipeline\n",
    "import matplotlib.pyplot as plt\n",
    "import seaborn as sns\n",
    "\n",
    "# Sample data for 10 goals\n",
    "data = {\n",
    "    'start_action': ['Own Half', 'Corner Kick', 'Free Kick', 'Throw In', 'Offensive Ball Gain', 'Own Half', 'Corner Kick', 'Throw In', 'Free Kick', 'Offensive Ball Gain'],\n",
    "    'xG': [0.05, 0.20, 0.15, 0.10, 0.30, 0.25, 0.12, 0.35, 0.50, 0.07],\n",
    "    'num_passes': [5, 3, 1, 2, 7, 4, 3, 2, 6, 5]\n",
    "}\n",
    "\n",
    "# Create a DataFrame\n",
    "df = pd.DataFrame(data)\n",
    "\n",
    "# Let's display the dataset\n",
    "print(df)\n"
   ]
  },
  {
   "cell_type": "code",
   "execution_count": 23,
   "metadata": {},
   "outputs": [
    {
     "name": "stdout",
     "output_type": "stream",
     "text": [
      "     xG  num_passes  start_action_Corner Kick  start_action_Free Kick  \\\n",
      "0  0.05           5                       0.0                     0.0   \n",
      "1  0.20           3                       1.0                     0.0   \n",
      "2  0.15           1                       0.0                     1.0   \n",
      "3  0.10           2                       0.0                     0.0   \n",
      "4  0.30           7                       0.0                     0.0   \n",
      "5  0.25           4                       0.0                     0.0   \n",
      "6  0.12           3                       1.0                     0.0   \n",
      "7  0.35           2                       0.0                     0.0   \n",
      "8  0.50           6                       0.0                     1.0   \n",
      "9  0.07           5                       0.0                     0.0   \n",
      "\n",
      "   start_action_Offensive Ball Gain  start_action_Own Half  \\\n",
      "0                               0.0                    1.0   \n",
      "1                               0.0                    0.0   \n",
      "2                               0.0                    0.0   \n",
      "3                               0.0                    0.0   \n",
      "4                               1.0                    0.0   \n",
      "5                               0.0                    1.0   \n",
      "6                               0.0                    0.0   \n",
      "7                               0.0                    0.0   \n",
      "8                               0.0                    0.0   \n",
      "9                               1.0                    0.0   \n",
      "\n",
      "   start_action_Throw In  \n",
      "0                    0.0  \n",
      "1                    0.0  \n",
      "2                    0.0  \n",
      "3                    1.0  \n",
      "4                    0.0  \n",
      "5                    0.0  \n",
      "6                    0.0  \n",
      "7                    1.0  \n",
      "8                    0.0  \n",
      "9                    0.0  \n"
     ]
    },
    {
     "name": "stderr",
     "output_type": "stream",
     "text": [
      "/Users/megheaiani/anaconda3/lib/python3.11/site-packages/sklearn/preprocessing/_encoders.py:975: FutureWarning: `sparse` was renamed to `sparse_output` in version 1.2 and will be removed in 1.4. `sparse_output` is ignored unless you leave `sparse` to its default value.\n",
      "  warnings.warn(\n"
     ]
    }
   ],
   "source": [
    "# OneHotEncode the 'start_action' feature\n",
    "encoder = OneHotEncoder(sparse=False)\n",
    "encoded_start_action = encoder.fit_transform(df[['start_action']])\n",
    "\n",
    "# Convert the encoded start_action back into a DataFrame and merge with the original data\n",
    "encoded_df = pd.DataFrame(encoded_start_action, columns=encoder.get_feature_names_out(['start_action']))\n",
    "df_encoded = pd.concat([df, encoded_df], axis=1).drop('start_action', axis=1)\n",
    "\n",
    "# Show the resulting dataframe\n",
    "print(df_encoded)\n"
   ]
  },
  {
   "cell_type": "code",
   "execution_count": 24,
   "metadata": {},
   "outputs": [
    {
     "name": "stdout",
     "output_type": "stream",
     "text": [
      "         xG  num_passes  start_action_Corner Kick  start_action_Free Kick  \\\n",
      "0 -1.177003    0.654654                       0.0                     0.0   \n",
      "1 -0.066623   -0.436436                       1.0                     0.0   \n",
      "2 -0.436750   -1.527525                       0.0                     1.0   \n",
      "3 -0.806876   -0.981981                       0.0                     0.0   \n",
      "4  0.673631    1.745743                       0.0                     0.0   \n",
      "5  0.303504    0.109109                       0.0                     0.0   \n",
      "6 -0.658826   -0.436436                       1.0                     0.0   \n",
      "7  1.043757   -0.981981                       0.0                     0.0   \n",
      "8  2.154138    1.200198                       0.0                     1.0   \n",
      "9 -1.028952    0.654654                       0.0                     0.0   \n",
      "\n",
      "   start_action_Offensive Ball Gain  start_action_Own Half  \\\n",
      "0                               0.0                    1.0   \n",
      "1                               0.0                    0.0   \n",
      "2                               0.0                    0.0   \n",
      "3                               0.0                    0.0   \n",
      "4                               1.0                    0.0   \n",
      "5                               0.0                    1.0   \n",
      "6                               0.0                    0.0   \n",
      "7                               0.0                    0.0   \n",
      "8                               0.0                    0.0   \n",
      "9                               1.0                    0.0   \n",
      "\n",
      "   start_action_Throw In  \n",
      "0                    0.0  \n",
      "1                    0.0  \n",
      "2                    0.0  \n",
      "3                    1.0  \n",
      "4                    0.0  \n",
      "5                    0.0  \n",
      "6                    0.0  \n",
      "7                    1.0  \n",
      "8                    0.0  \n",
      "9                    0.0  \n"
     ]
    }
   ],
   "source": [
    "# Standardize the numeric features (xG and num_passes)\n",
    "scaler = StandardScaler()\n",
    "df_encoded[['xG', 'num_passes']] = scaler.fit_transform(df_encoded[['xG', 'num_passes']])\n",
    "\n",
    "# Display the scaled dataframe\n",
    "print(df_encoded)\n"
   ]
  },
  {
   "cell_type": "code",
   "execution_count": 25,
   "metadata": {},
   "outputs": [
    {
     "name": "stdout",
     "output_type": "stream",
     "text": [
      "         xG  num_passes  start_action_Corner Kick  start_action_Free Kick  \\\n",
      "0 -1.177003    0.654654                       0.0                     0.0   \n",
      "1 -0.066623   -0.436436                       1.0                     0.0   \n",
      "2 -0.436750   -1.527525                       0.0                     1.0   \n",
      "3 -0.806876   -0.981981                       0.0                     0.0   \n",
      "4  0.673631    1.745743                       0.0                     0.0   \n",
      "5  0.303504    0.109109                       0.0                     0.0   \n",
      "6 -0.658826   -0.436436                       1.0                     0.0   \n",
      "7  1.043757   -0.981981                       0.0                     0.0   \n",
      "8  2.154138    1.200198                       0.0                     1.0   \n",
      "9 -1.028952    0.654654                       0.0                     0.0   \n",
      "\n",
      "   start_action_Offensive Ball Gain  start_action_Own Half  \\\n",
      "0                               0.0                    1.0   \n",
      "1                               0.0                    0.0   \n",
      "2                               0.0                    0.0   \n",
      "3                               0.0                    0.0   \n",
      "4                               1.0                    0.0   \n",
      "5                               0.0                    1.0   \n",
      "6                               0.0                    0.0   \n",
      "7                               0.0                    0.0   \n",
      "8                               0.0                    0.0   \n",
      "9                               1.0                    0.0   \n",
      "\n",
      "   start_action_Throw In  cluster  \n",
      "0                    0.0        2  \n",
      "1                    0.0        0  \n",
      "2                    0.0        0  \n",
      "3                    1.0        0  \n",
      "4                    0.0        1  \n",
      "5                    0.0        2  \n",
      "6                    0.0        0  \n",
      "7                    1.0        0  \n",
      "8                    0.0        1  \n",
      "9                    0.0        2  \n"
     ]
    },
    {
     "name": "stderr",
     "output_type": "stream",
     "text": [
      "/Users/megheaiani/anaconda3/lib/python3.11/site-packages/sklearn/cluster/_kmeans.py:1416: FutureWarning: The default value of `n_init` will change from 10 to 'auto' in 1.4. Set the value of `n_init` explicitly to suppress the warning\n",
      "  super()._check_params_vs_input(X, default_n_init=10)\n"
     ]
    }
   ],
   "source": [
    "# Apply KMeans clustering\n",
    "kmeans = KMeans(n_clusters=3, random_state=42)  # Let's assume we want 3 clusters\n",
    "df_encoded['cluster'] = kmeans.fit_predict(df_encoded)\n",
    "\n",
    "# Show the clustered data\n",
    "print(df_encoded)\n"
   ]
  },
  {
   "cell_type": "code",
   "execution_count": 26,
   "metadata": {},
   "outputs": [
    {
     "data": {
      "image/png": "[encoded data removed]",
      "text/plain": [
       "<Figure size 800x600 with 1 Axes>"
      ]
     },
     "metadata": {},
     "output_type": "display_data"
    }
   ],
   "source": [
    "# Visualize clusters using a scatter plot (xG vs. num_passes)\n",
    "plt.figure(figsize=(8, 6))\n",
    "sns.scatterplot(x='xG', y='num_passes', hue='cluster', data=df_encoded, palette='viridis', s=100)\n",
    "\n",
    "plt.title('K-Means Clustering of Goals')\n",
    "plt.xlabel('xG (Standardized)')\n",
    "plt.ylabel('Number of Passes (Standardized)')\n",
    "plt.show()\n"
   ]
  }
 ],
 "metadata": {
  "kernelspec": {
   "display_name": "a1",
   "language": "python",
   "name": "python3"
  },
  "language_info": {
   "codemirror_mode": {
    "name": "ipython",
    "version": 3
   },
   "file_extension": ".py",
   "mimetype": "text/x-python",
   "name": "python",
   "nbconvert_exporter": "python",
   "pygments_lexer": "ipython3",
   "version": "3.11.4"
  }
 },
 "nbformat": 4,
 "nbformat_minor": 2
}
