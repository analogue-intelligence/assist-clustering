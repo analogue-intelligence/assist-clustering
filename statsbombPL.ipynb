{
 "cells": [
  {
   "cell_type": "code",
   "execution_count": 2,
   "metadata": {},
   "outputs": [
    {
     "name": "stdout",
     "output_type": "stream",
     "text": [
      "Requirement already satisfied: statsbombpy in /Users/megheaiani/anaconda3/lib/python3.11/site-packages (1.14.0)\n",
      "Requirement already satisfied: pandas in /Users/megheaiani/anaconda3/lib/python3.11/site-packages (from statsbombpy) (1.5.3)\n",
      "Requirement already satisfied: requests in /Users/megheaiani/anaconda3/lib/python3.11/site-packages (from statsbombpy) (2.31.0)\n",
      "Requirement already satisfied: requests-cache in /Users/megheaiani/anaconda3/lib/python3.11/site-packages (from statsbombpy) (1.2.1)\n",
      "Requirement already satisfied: inflect in /Users/megheaiani/anaconda3/lib/python3.11/site-packages (from statsbombpy) (7.4.0)\n",
      "Requirement already satisfied: joblib in /Users/megheaiani/anaconda3/lib/python3.11/site-packages (from statsbombpy) (1.3.2)\n",
      "Requirement already satisfied: more-itertools>=8.5.0 in /Users/megheaiani/anaconda3/lib/python3.11/site-packages (from inflect->statsbombpy) (8.12.0)\n",
      "Requirement already satisfied: typeguard>=4.0.1 in /Users/megheaiani/anaconda3/lib/python3.11/site-packages (from inflect->statsbombpy) (4.4.1)\n",
      "Requirement already satisfied: python-dateutil>=2.8.1 in /Users/megheaiani/anaconda3/lib/python3.11/site-packages (from pandas->statsbombpy) (2.8.2)\n",
      "Requirement already satisfied: pytz>=2020.1 in /Users/megheaiani/anaconda3/lib/python3.11/site-packages (from pandas->statsbombpy) (2022.7)\n",
      "Requirement already satisfied: numpy>=1.21.0 in /Users/megheaiani/anaconda3/lib/python3.11/site-packages (from pandas->statsbombpy) (1.24.3)\n",
      "Requirement already satisfied: charset-normalizer<4,>=2 in /Users/megheaiani/anaconda3/lib/python3.11/site-packages (from requests->statsbombpy) (2.0.4)\n",
      "Requirement already satisfied: idna<4,>=2.5 in /Users/megheaiani/anaconda3/lib/python3.11/site-packages (from requests->statsbombpy) (3.4)\n",
      "Requirement already satisfied: urllib3<3,>=1.21.1 in /Users/megheaiani/anaconda3/lib/python3.11/site-packages (from requests->statsbombpy) (1.26.16)\n",
      "Requirement already satisfied: certifi>=2017.4.17 in /Users/megheaiani/anaconda3/lib/python3.11/site-packages (from requests->statsbombpy) (2023.7.22)\n",
      "Requirement already satisfied: attrs>=21.2 in /Users/megheaiani/anaconda3/lib/python3.11/site-packages (from requests-cache->statsbombpy) (24.2.0)\n",
      "Requirement already satisfied: cattrs>=22.2 in /Users/megheaiani/anaconda3/lib/python3.11/site-packages (from requests-cache->statsbombpy) (24.1.2)\n",
      "Requirement already satisfied: platformdirs>=2.5 in /Users/megheaiani/anaconda3/lib/python3.11/site-packages (from requests-cache->statsbombpy) (2.5.2)\n",
      "Requirement already satisfied: url-normalize>=1.4 in /Users/megheaiani/anaconda3/lib/python3.11/site-packages (from requests-cache->statsbombpy) (1.4.3)\n",
      "Requirement already satisfied: six>=1.5 in /Users/megheaiani/anaconda3/lib/python3.11/site-packages (from python-dateutil>=2.8.1->pandas->statsbombpy) (1.16.0)\n",
      "Requirement already satisfied: typing-extensions>=4.10.0 in /Users/megheaiani/anaconda3/lib/python3.11/site-packages (from typeguard>=4.0.1->inflect->statsbombpy) (4.12.2)\n"
     ]
    }
   ],
   "source": [
    "!pip install statsbombpy"
   ]
  },
  {
   "cell_type": "code",
   "execution_count": 4,
   "metadata": {},
   "outputs": [],
   "source": [
    "#import packages\n",
    "from statsbombpy import sb\n",
    "import pandas as pd"
   ]
  },
  {
   "cell_type": "code",
   "execution_count": 5,
   "metadata": {},
   "outputs": [
    {
     "name": "stderr",
     "output_type": "stream",
     "text": [
      "/Users/megheaiani/anaconda3/lib/python3.11/site-packages/statsbombpy/api_client.py:21: NoAuthWarning: credentials were not supplied. open data access only\n",
      "  warnings.warn(\n"
     ]
    },
    {
     "data": {
      "text/html": [
       "<div>\n",
       "<style scoped>\n",
       "    .dataframe tbody tr th:only-of-type {\n",
       "        vertical-align: middle;\n",
       "    }\n",
       "\n",
       "    .dataframe tbody tr th {\n",
       "        vertical-align: top;\n",
       "    }\n",
       "\n",
       "    .dataframe thead th {\n",
       "        text-align: right;\n",
       "    }\n",
       "</style>\n",
       "<table border=\"1\" class=\"dataframe\">\n",
       "  <thead>\n",
       "    <tr style=\"text-align: right;\">\n",
       "      <th></th>\n",
       "      <th>match_id</th>\n",
       "      <th>match_date</th>\n",
       "      <th>kick_off</th>\n",
       "      <th>competition</th>\n",
       "      <th>season</th>\n",
       "      <th>home_team</th>\n",
       "      <th>away_team</th>\n",
       "      <th>home_score</th>\n",
       "      <th>away_score</th>\n",
       "      <th>match_status</th>\n",
       "      <th>...</th>\n",
       "      <th>last_updated_360</th>\n",
       "      <th>match_week</th>\n",
       "      <th>competition_stage</th>\n",
       "      <th>stadium</th>\n",
       "      <th>referee</th>\n",
       "      <th>home_managers</th>\n",
       "      <th>away_managers</th>\n",
       "      <th>data_version</th>\n",
       "      <th>shot_fidelity_version</th>\n",
       "      <th>xy_fidelity_version</th>\n",
       "    </tr>\n",
       "  </thead>\n",
       "  <tbody>\n",
       "    <tr>\n",
       "      <th>0</th>\n",
       "      <td>3754058</td>\n",
       "      <td>2016-01-02</td>\n",
       "      <td>16:00:00.000</td>\n",
       "      <td>England - Premier League</td>\n",
       "      <td>2015/2016</td>\n",
       "      <td>Leicester City</td>\n",
       "      <td>AFC Bournemouth</td>\n",
       "      <td>0</td>\n",
       "      <td>0</td>\n",
       "      <td>available</td>\n",
       "      <td>...</td>\n",
       "      <td>2021-06-12T16:17:31.694</td>\n",
       "      <td>20</td>\n",
       "      <td>Regular Season</td>\n",
       "      <td>King Power Stadium</td>\n",
       "      <td>Andre Marriner</td>\n",
       "      <td>Claudio Ranieri</td>\n",
       "      <td>Eddie Howe</td>\n",
       "      <td>1.1.0</td>\n",
       "      <td>2</td>\n",
       "      <td>2</td>\n",
       "    </tr>\n",
       "    <tr>\n",
       "      <th>1</th>\n",
       "      <td>3754245</td>\n",
       "      <td>2015-10-17</td>\n",
       "      <td>16:00:00.000</td>\n",
       "      <td>England - Premier League</td>\n",
       "      <td>2015/2016</td>\n",
       "      <td>West Bromwich Albion</td>\n",
       "      <td>Sunderland</td>\n",
       "      <td>1</td>\n",
       "      <td>0</td>\n",
       "      <td>available</td>\n",
       "      <td>...</td>\n",
       "      <td>2021-06-13T16:17:31.694</td>\n",
       "      <td>9</td>\n",
       "      <td>Regular Season</td>\n",
       "      <td>The Hawthorns</td>\n",
       "      <td>Martin Atkinson</td>\n",
       "      <td>Tony Pulis</td>\n",
       "      <td>Sam Allardyce</td>\n",
       "      <td>1.1.0</td>\n",
       "      <td>2</td>\n",
       "      <td>2</td>\n",
       "    </tr>\n",
       "    <tr>\n",
       "      <th>2</th>\n",
       "      <td>3754136</td>\n",
       "      <td>2015-12-19</td>\n",
       "      <td>18:30:00.000</td>\n",
       "      <td>England - Premier League</td>\n",
       "      <td>2015/2016</td>\n",
       "      <td>Newcastle United</td>\n",
       "      <td>Aston Villa</td>\n",
       "      <td>1</td>\n",
       "      <td>1</td>\n",
       "      <td>available</td>\n",
       "      <td>...</td>\n",
       "      <td>2021-06-13T16:17:31.694</td>\n",
       "      <td>17</td>\n",
       "      <td>Regular Season</td>\n",
       "      <td>St. James'' Park</td>\n",
       "      <td>Martin Atkinson</td>\n",
       "      <td>Steve McClaren</td>\n",
       "      <td>Rémi Garde</td>\n",
       "      <td>1.1.0</td>\n",
       "      <td>2</td>\n",
       "      <td>2</td>\n",
       "    </tr>\n",
       "    <tr>\n",
       "      <th>3</th>\n",
       "      <td>3754037</td>\n",
       "      <td>2016-04-30</td>\n",
       "      <td>16:00:00.000</td>\n",
       "      <td>England - Premier League</td>\n",
       "      <td>2015/2016</td>\n",
       "      <td>Everton</td>\n",
       "      <td>AFC Bournemouth</td>\n",
       "      <td>2</td>\n",
       "      <td>1</td>\n",
       "      <td>available</td>\n",
       "      <td>...</td>\n",
       "      <td>2021-06-12T16:17:31.694</td>\n",
       "      <td>36</td>\n",
       "      <td>Regular Season</td>\n",
       "      <td>Goodison Park</td>\n",
       "      <td>Neil Swarbrick</td>\n",
       "      <td>Roberto Martínez Montoliú</td>\n",
       "      <td>Eddie Howe</td>\n",
       "      <td>1.1.0</td>\n",
       "      <td>2</td>\n",
       "      <td>2</td>\n",
       "    </tr>\n",
       "    <tr>\n",
       "      <th>4</th>\n",
       "      <td>3754039</td>\n",
       "      <td>2016-02-13</td>\n",
       "      <td>16:00:00.000</td>\n",
       "      <td>England - Premier League</td>\n",
       "      <td>2015/2016</td>\n",
       "      <td>Crystal Palace</td>\n",
       "      <td>Watford</td>\n",
       "      <td>1</td>\n",
       "      <td>2</td>\n",
       "      <td>available</td>\n",
       "      <td>...</td>\n",
       "      <td>2021-06-12T16:17:31.694</td>\n",
       "      <td>26</td>\n",
       "      <td>Regular Season</td>\n",
       "      <td>Selhurst Park</td>\n",
       "      <td>Robert Madley</td>\n",
       "      <td>Alan Pardew</td>\n",
       "      <td>Enrique Sánchez Flores</td>\n",
       "      <td>1.1.0</td>\n",
       "      <td>2</td>\n",
       "      <td>2</td>\n",
       "    </tr>\n",
       "  </tbody>\n",
       "</table>\n",
       "<p>5 rows × 22 columns</p>\n",
       "</div>"
      ],
      "text/plain": [
       "   match_id  match_date      kick_off               competition     season  \\\n",
       "0   3754058  2016-01-02  16:00:00.000  England - Premier League  2015/2016   \n",
       "1   3754245  2015-10-17  16:00:00.000  England - Premier League  2015/2016   \n",
       "2   3754136  2015-12-19  18:30:00.000  England - Premier League  2015/2016   \n",
       "3   3754037  2016-04-30  16:00:00.000  England - Premier League  2015/2016   \n",
       "4   3754039  2016-02-13  16:00:00.000  England - Premier League  2015/2016   \n",
       "\n",
       "              home_team        away_team  home_score  away_score match_status  \\\n",
       "0        Leicester City  AFC Bournemouth           0           0    available   \n",
       "1  West Bromwich Albion       Sunderland           1           0    available   \n",
       "2      Newcastle United      Aston Villa           1           1    available   \n",
       "3               Everton  AFC Bournemouth           2           1    available   \n",
       "4        Crystal Palace          Watford           1           2    available   \n",
       "\n",
       "   ...         last_updated_360 match_week competition_stage  \\\n",
       "0  ...  2021-06-12T16:17:31.694         20    Regular Season   \n",
       "1  ...  2021-06-13T16:17:31.694          9    Regular Season   \n",
       "2  ...  2021-06-13T16:17:31.694         17    Regular Season   \n",
       "3  ...  2021-06-12T16:17:31.694         36    Regular Season   \n",
       "4  ...  2021-06-12T16:17:31.694         26    Regular Season   \n",
       "\n",
       "               stadium          referee              home_managers  \\\n",
       "0  King Power Stadium    Andre Marriner            Claudio Ranieri   \n",
       "1        The Hawthorns  Martin Atkinson                 Tony Pulis   \n",
       "2     St. James'' Park  Martin Atkinson             Steve McClaren   \n",
       "3        Goodison Park   Neil Swarbrick  Roberto Martínez Montoliú   \n",
       "4        Selhurst Park    Robert Madley                Alan Pardew   \n",
       "\n",
       "            away_managers data_version shot_fidelity_version  \\\n",
       "0              Eddie Howe        1.1.0                     2   \n",
       "1           Sam Allardyce        1.1.0                     2   \n",
       "2              Rémi Garde        1.1.0                     2   \n",
       "3              Eddie Howe        1.1.0                     2   \n",
       "4  Enrique Sánchez Flores        1.1.0                     2   \n",
       "\n",
       "  xy_fidelity_version  \n",
       "0                   2  \n",
       "1                   2  \n",
       "2                   2  \n",
       "3                   2  \n",
       "4                   2  \n",
       "\n",
       "[5 rows x 22 columns]"
      ]
     },
     "execution_count": 5,
     "metadata": {},
     "output_type": "execute_result"
    }
   ],
   "source": [
    "#load data\n",
    "matches = sb.matches(competition_id=2, season_id=27)\n",
    "matches.head()"
   ]
  },
  {
   "cell_type": "code",
   "execution_count": 130,
   "metadata": {},
   "outputs": [],
   "source": [
    "# import pandas as pd\n",
    "\n",
    "# all_passes = pd.DataFrame()\n",
    "\n",
    "\n",
    "# for match_id in matches['match_id']:\n",
    "#     events = sb.events(match_id=match_id)\n",
    "#     match_passes = events[events['type'] == 'Pass']\n",
    "#     all_passes = pd.concat([all_passes, match_passes], ignore_index=True)\n",
    "\n",
    "# print(all_passes)\n",
    "\n",
    "# code for getting all data from the api, commented as it takes 40 minututes or so to run, but only the first time, as after that the data is saved in the csv file"
   ]
  },
  {
   "cell_type": "code",
   "execution_count": 133,
   "metadata": {},
   "outputs": [],
   "source": [
    "# # List to store tactics data across all matches\n",
    "# tactics_all_matches = []\n",
    "\n",
    "# # Loop through each match\n",
    "# for match_id in matches['match_id']:\n",
    "#     events = sb.events(match_id=match_id)\n",
    "    \n",
    "#     # Filter for Tactics events\n",
    "#     tactics = events['tactics'].dropna()\n",
    "    \n",
    "#     for row in tactics:\n",
    "        \n",
    "#         formation = row['formation']\n",
    "#         lineup = row['lineup']\n",
    "        \n",
    "#         # Extract lineup information for the team\n",
    "#         for player_info in lineup:\n",
    "#             tactics_all_matches.append({\n",
    "#                 'match_id': match_id,\n",
    "#                 'formation': formation,\n",
    "#                 'player_id': player_info['player']['id'],\n",
    "#                 'player_name': player_info['player']['name'],\n",
    "#                 'position_id': player_info['position']['id'],\n",
    "#                 'position_name': player_info['position']['name'],\n",
    "#                 'jersey_number': player_info['jersey_number']\n",
    "#             })\n",
    "\n",
    "# # Convert collected data into a DataFrame\n",
    "# tactics_df = pd.DataFrame(tactics_all_matches)\n",
    "\n",
    "# # Display the first few rows of the DataFrame\n",
    "# print(tactics_df.head())\n",
    "\n",
    "# code to also add some other columns to the df that I found interesting, commented out as it also takes a few minutes, but it is now saved in the csv file"
   ]
  },
  {
   "cell_type": "code",
   "execution_count": 132,
   "metadata": {},
   "outputs": [],
   "source": [
    "# Merge tactics with passes\n",
    "# all_passes = all_passes.merge(tactics_df, on=['match_id', 'player_id'], how='left')\n",
    "# again, code is commented as all the data is already loaded in the all_passes.csv file"
   ]
  },
  {
   "cell_type": "code",
   "execution_count": 44,
   "metadata": {},
   "outputs": [
    {
     "name": "stdout",
     "output_type": "stream",
     "text": [
      "[  442  4141  4231 41212   433   352   451  4411   343  3412  4321  3421\n",
      "  3511  4222]\n"
     ]
    }
   ],
   "source": [
    "# unique_formations = tactics_df['formation'].unique()\n",
    "# print(unique_formations)\n",
    "\n",
    "# test to see all the different formations, commented out as the df variable does not exist anymore"
   ]
  },
  {
   "cell_type": "code",
   "execution_count": 152,
   "metadata": {},
   "outputs": [
    {
     "name": "stderr",
     "output_type": "stream",
     "text": [
      "/var/folders/4m/2n3yzlf10012wdm94p3176pm0000gn/T/ipykernel_27584/1903380040.py:3: DtypeWarning: Columns (49,51) have mixed types. Specify dtype option on import or set low_memory=False.\n",
      "  all_passes = pd.read_csv('all_passes.csv')\n"
     ]
    }
   ],
   "source": [
    "# load all_passes from the csv file, as it takes a long time to load the data from the api\n",
    "\n",
    "all_passes = pd.read_csv('all_passes.csv')"
   ]
  },
  {
   "cell_type": "code",
   "execution_count": null,
   "metadata": {},
   "outputs": [
    {
     "name": "stdout",
     "output_type": "stream",
     "text": [
      "  counterpress  duration                                    id  index  \\\n",
      "0          NaN  0.308263  2ca23eea-a984-47e4-8243-8f00880ad1c9      5   \n",
      "1          NaN  0.933203  0fee7719-7e69-49c5-be81-3f2b77da604e      8   \n",
      "2          NaN  2.454046  6362aa69-892f-4d11-8644-21a680ea7c66     10   \n",
      "3          NaN  1.795575  56da36e4-8b0d-4596-ba46-1d944c3d3f04     13   \n",
      "4          NaN  1.111890  bcfea2e3-9736-4975-be28-ef2c9d693fa7     16   \n",
      "\n",
      "       location  match_id  minute off_camera  out pass_aerial_won  ...  \\\n",
      "0  [61.0, 40.1]   3754058       0        NaN  NaN             NaN  ...   \n",
      "1  [60.4, 43.6]   3754058       0        NaN  NaN             NaN  ...   \n",
      "2  [48.0, 41.7]   3754058       0        NaN  NaN             NaN  ...   \n",
      "3  [37.5, 74.6]   3754058       0        NaN  NaN             NaN  ...   \n",
      "4  [27.4, 63.9]   3754058       0        NaN  NaN             NaN  ...   \n",
      "\n",
      "   under_pressure pass_goal_assist pass_straight pass_no_touch  \\\n",
      "0             NaN              NaN           NaN           NaN   \n",
      "1             NaN              NaN           NaN           NaN   \n",
      "2             NaN              NaN           NaN           NaN   \n",
      "3             NaN              NaN           NaN           NaN   \n",
      "4             NaN              NaN           NaN           NaN   \n",
      "\n",
      "  pass_miscommunication formation_x  player_name_x position_id_x  \\\n",
      "0                   NaN      4141.0    Dan Gosling          13.0   \n",
      "1                   NaN      4141.0    Joshua King          23.0   \n",
      "2                   NaN      4141.0  Andrew Surman          10.0   \n",
      "3                   NaN      4141.0     Adam Smith           2.0   \n",
      "4                   NaN      4141.0  Simon Francis           3.0   \n",
      "\n",
      "             position_name_x  jersey_number_x  \n",
      "0      Right Center Midfield              4.0  \n",
      "1             Center Forward             17.0  \n",
      "2  Center Defensive Midfield              6.0  \n",
      "3                 Right Back             15.0  \n",
      "4          Right Center Back              2.0  \n",
      "\n",
      "[5 rows x 53 columns]\n"
     ]
    }
   ],
   "source": [
    "# filtering on the all_passes df as for some reason there are a few extra columns. even after this, a few redundant ones remain, but they do not matter\n",
    "# Filter out columns that end with '_y'\n",
    "columns_to_remove = [col for col in all_passes.columns if col.endswith('_y')]\n",
    "\n",
    "# Drop these columns from the DataFrame\n",
    "all_passes.drop(columns=columns_to_remove, inplace=True)\n",
    "\n",
    "# Check the updated DataFrame\n",
    "print(all_passes.head())\n"
   ]
  },
  {
   "cell_type": "code",
   "execution_count": 141,
   "metadata": {},
   "outputs": [
    {
     "name": "stdout",
     "output_type": "stream",
     "text": [
      "counterpress\n",
      "duration\n",
      "id\n",
      "index\n",
      "location\n",
      "match_id\n",
      "minute\n",
      "off_camera\n",
      "out\n",
      "pass_aerial_won\n",
      "pass_angle\n",
      "pass_assisted_shot_id\n",
      "pass_body_part\n",
      "pass_cross\n",
      "pass_cut_back\n",
      "pass_deflected\n",
      "pass_end_location\n",
      "pass_height\n",
      "pass_inswinging\n",
      "pass_length\n",
      "pass_outcome\n",
      "pass_outswinging\n",
      "pass_recipient\n",
      "pass_recipient_id\n",
      "pass_shot_assist\n",
      "pass_switch\n",
      "pass_technique\n",
      "pass_through_ball\n",
      "pass_type\n",
      "period\n",
      "play_pattern\n",
      "player\n",
      "player_id\n",
      "position\n",
      "possession\n",
      "possession_team\n",
      "possession_team_id\n",
      "related_events\n",
      "second\n",
      "team\n",
      "team_id\n",
      "timestamp\n",
      "type\n",
      "under_pressure\n",
      "pass_goal_assist\n",
      "pass_straight\n",
      "pass_no_touch\n",
      "pass_miscommunication\n",
      "formation_x\n",
      "player_name_x\n",
      "position_id_x\n",
      "position_name_x\n",
      "jersey_number_x\n"
     ]
    }
   ],
   "source": [
    "\n",
    "# existing features\n",
    "for col in all_passes.columns:\n",
    "    print(col)"
   ]
  },
  {
   "cell_type": "code",
   "execution_count": 142,
   "metadata": {},
   "outputs": [
    {
     "name": "stdout",
     "output_type": "stream",
     "text": [
      "Index(['counterpress', 'duration', 'id', 'index', 'location', 'match_id',\n",
      "       'minute', 'off_camera', 'out', 'pass_aerial_won', 'pass_angle',\n",
      "       'pass_assisted_shot_id', 'pass_body_part', 'pass_cross',\n",
      "       'pass_cut_back', 'pass_deflected', 'pass_end_location', 'pass_height',\n",
      "       'pass_inswinging', 'pass_length', 'pass_outcome', 'pass_outswinging',\n",
      "       'pass_recipient', 'pass_recipient_id', 'pass_shot_assist',\n",
      "       'pass_switch', 'pass_technique', 'pass_through_ball', 'pass_type',\n",
      "       'period', 'play_pattern', 'player', 'player_id', 'position',\n",
      "       'possession', 'possession_team', 'possession_team_id', 'related_events',\n",
      "       'second', 'team', 'team_id', 'timestamp', 'type', 'under_pressure',\n",
      "       'pass_goal_assist', 'pass_straight', 'pass_no_touch',\n",
      "       'pass_miscommunication', 'formation_x', 'player_name_x',\n",
      "       'position_id_x', 'position_name_x', 'jersey_number_x'],\n",
      "      dtype='object')\n"
     ]
    }
   ],
   "source": [
    "# Drop columns where all values are NaN\n",
    "all_passes = all_passes.dropna(axis=1, how='all')\n",
    "\n",
    "# Print the remaining columns\n",
    "print(all_passes.columns)\n"
   ]
  },
  {
   "cell_type": "code",
   "execution_count": 143,
   "metadata": {},
   "outputs": [
    {
     "name": "stdout",
     "output_type": "stream",
     "text": [
      "True    669\n",
      "Name: pass_goal_assist, dtype: int64\n"
     ]
    }
   ],
   "source": [
    "print(all_passes['pass_goal_assist'].value_counts())"
   ]
  },
  {
   "cell_type": "code",
   "execution_count": 144,
   "metadata": {},
   "outputs": [
    {
     "name": "stdout",
     "output_type": "stream",
     "text": [
      "Pass 1: Start = ([61.0, 40.1]), End = ([60.4, 43.6])\n",
      "Pass 2: Start = ([60.4, 43.6]), End = ([48.0, 41.7])\n",
      "Pass 3: Start = ([48.0, 41.7]), End = ([37.5, 76.1])\n",
      "Pass 4: Start = ([37.5, 74.6]), End = ([27.4, 58.1])\n",
      "Pass 5: Start = ([27.4, 63.9]), End = ([35.1, 77.8])\n",
      "Pass 1: Player: Dan Gosling\n",
      "Pass 1: Team: AFC Bournemouth\n",
      "Pass 2: Player: Joshua King\n",
      "Pass 2: Team: AFC Bournemouth\n",
      "Pass 3: Player: Andrew Surman\n",
      "Pass 3: Team: AFC Bournemouth\n",
      "Pass 4: Player: Adam Smith\n",
      "Pass 4: Team: AFC Bournemouth\n",
      "Pass 5: Player: Simon Francis\n",
      "Pass 5: Team: AFC Bournemouth\n"
     ]
    }
   ],
   "source": [
    "# Print locations for the first 5 passes\n",
    "for i, row in all_passes.head(5).iterrows():\n",
    "    print(f\"Pass {i+1}: Start = ({row['location']}), End = ({row['pass_end_location']})\")\n",
    "for i, row in all_passes.head(5).iterrows():\n",
    "    print(f\"Pass {i+1}: Player: {row['player']}\")\n",
    "    print(f\"Pass {i+1}: Team: {row['team']}\")"
   ]
  },
  {
   "cell_type": "code",
   "execution_count": 155,
   "metadata": {},
   "outputs": [],
   "source": [
    "all_passes.to_csv('all_passes.csv', index=False)"
   ]
  },
  {
   "cell_type": "code",
   "execution_count": 146,
   "metadata": {},
   "outputs": [],
   "source": [
    "all_passes = all_passes.drop_duplicates(subset='id', keep='first')\n"
   ]
  },
  {
   "cell_type": "code",
   "execution_count": 153,
   "metadata": {},
   "outputs": [
    {
     "name": "stdout",
     "output_type": "stream",
     "text": [
      "       location pass_end_location\n",
      "0  [61.0, 40.1]      [60.4, 43.6]\n",
      "1  [60.4, 43.6]      [48.0, 41.7]\n",
      "2  [48.0, 41.7]      [37.5, 76.1]\n",
      "3  [37.5, 74.6]      [27.4, 58.1]\n",
      "4  [27.4, 63.9]      [35.1, 77.8]\n"
     ]
    }
   ],
   "source": [
    "# step for visualizing easily, but also for later use of the location coordinates (they are strings in the original dataset)\n",
    "\n",
    "import ast\n",
    "\n",
    "# Convert 'location' and 'pass_end_location' in all_passes from string to list\n",
    "all_passes['location'] = all_passes['location'].apply(ast.literal_eval)\n",
    "all_passes['pass_end_location'] = all_passes['pass_end_location'].apply(ast.literal_eval)\n",
    "\n",
    "# Check the updated DataFrame\n",
    "print(all_passes[['location', 'pass_end_location']].head())\n"
   ]
  },
  {
   "cell_type": "code",
   "execution_count": 154,
   "metadata": {},
   "outputs": [
    {
     "data": {
      "image/png": "[encoded data removed]",
      "text/plain": [
       "<Figure size 1000x700 with 1 Axes>"
      ]
     },
     "metadata": {},
     "output_type": "display_data"
    }
   ],
   "source": [
    "import matplotlib.pyplot as plt\n",
    "from matplotlib.patches import FancyArrow\n",
    "\n",
    "# Extract the first 5 passes\n",
    "passes = all_passes.head(5)\n",
    "\n",
    "# Define pitch dimensions (StatsBomb uses a 120x80 field)\n",
    "pitch_length = 120\n",
    "pitch_width = 80\n",
    "\n",
    "# Create a function to draw the pitch\n",
    "def draw_pitch(ax=None):\n",
    "    if ax is None:\n",
    "        fig, ax = plt.subplots(figsize=(10, 6))\n",
    "    # Pitch outline and center line\n",
    "    ax.plot([0, 0, pitch_length, pitch_length, 0], [0, pitch_width, pitch_width, 0, 0], color=\"black\", lw=2)\n",
    "    ax.plot([pitch_length/2, pitch_length/2], [0, pitch_width], color=\"black\", lw=2)\n",
    "\n",
    "    # Left penalty area\n",
    "    ax.plot([18, 18, 0, 0], [18, pitch_width - 18, pitch_width - 18, 18], color=\"black\", lw=2)\n",
    "    # Right penalty area\n",
    "    ax.plot([pitch_length - 18, pitch_length - 18, pitch_length, pitch_length], \n",
    "            [18, pitch_width - 18, pitch_width - 18, 18], color=\"black\", lw=2)\n",
    "\n",
    "    # Goal posts\n",
    "    ax.plot([0, 0.5, 0], [36, 44, 44], color=\"black\", lw=2)\n",
    "    ax.plot([pitch_length, pitch_length - 0.5, pitch_length], \n",
    "            [36, 44, 44], color=\"black\", lw=2)\n",
    "\n",
    "    # Turn off axes\n",
    "    ax.axis(\"off\")\n",
    "    return ax\n",
    "\n",
    "# Plot the passes\n",
    "fig, ax = plt.subplots(figsize=(10, 7))\n",
    "draw_pitch(ax)\n",
    "\n",
    "for i, row in passes.iterrows():\n",
    "    start_x, start_y = row['location']  # Start coordinates\n",
    "    end_x, end_y = row['pass_end_location']  # End coordinates\n",
    "    \n",
    "    # Draw the pass as an arrow\n",
    "    ax.add_patch(FancyArrow(start_x, start_y, end_x - start_x, end_y - start_y, \n",
    "                            color='blue', width=0.5, head_width=2, length_includes_head=True))\n",
    "    \n",
    "    # Add a label for the pass number\n",
    "    ax.text(start_x, start_y, f\"{i+1}\", color=\"red\", fontsize=12)\n",
    "\n",
    "ax.set_title(\"First 5 Passes Visualized\", fontsize=16)\n",
    "plt.show()\n"
   ]
  },
  {
   "cell_type": "code",
   "execution_count": 156,
   "metadata": {},
   "outputs": [
    {
     "data": {
      "text/plain": [
       "6506"
      ]
     },
     "execution_count": 156,
     "metadata": {},
     "output_type": "execute_result"
    }
   ],
   "source": [
    "# Key passes, according to opta: A pass that leads to a shot on goal, without a goal being scored\n",
    "\n",
    "# Filter for key passes\n",
    "# Count the pass_shot_assist column\n",
    "\n",
    "key_passes = all_passes['pass_shot_assist'].sum()\n",
    "\n",
    "key_passes"
   ]
  },
  {
   "cell_type": "code",
   "execution_count": 160,
   "metadata": {},
   "outputs": [
    {
     "data": {
      "text/plain": [
       "7175"
      ]
     },
     "execution_count": 160,
     "metadata": {},
     "output_type": "execute_result"
    }
   ],
   "source": [
    "# Filter for key passes and assists\n",
    "key_passes_and_assists = all_passes[\n",
    "    all_passes['pass_shot_assist'].notnull() | all_passes['pass_goal_assist'].notnull()\n",
    "]\n",
    "\n",
    "# Drop duplicates\n",
    "key_passes_and_assists = key_passes_and_assists.drop_duplicates(subset='id', keep='first')\n",
    "\n",
    "# Count the number of key passes and assists\n",
    "\n",
    "key_passes_and_assists_count = key_passes_and_assists['id'].nunique()\n",
    "\n",
    "key_passes_and_assists_count"
   ]
  },
  {
   "cell_type": "code",
   "execution_count": 128,
   "metadata": {},
   "outputs": [],
   "source": [
    "# Put key passes and assists into csv\n",
    "\n",
    "key_passes_and_assists.to_csv('key_passes_and_assists.csv', index=False)"
   ]
  },
  {
   "cell_type": "code",
   "execution_count": 158,
   "metadata": {},
   "outputs": [
    {
     "data": {
      "text/plain": [
       "Index(['counterpress', 'duration', 'id', 'index', 'location', 'match_id',\n",
       "       'minute', 'off_camera', 'out', 'pass_aerial_won', 'pass_angle',\n",
       "       'pass_assisted_shot_id', 'pass_body_part', 'pass_cross',\n",
       "       'pass_cut_back', 'pass_deflected', 'pass_end_location', 'pass_height',\n",
       "       'pass_inswinging', 'pass_length', 'pass_outcome', 'pass_outswinging',\n",
       "       'pass_recipient', 'pass_recipient_id', 'pass_shot_assist',\n",
       "       'pass_switch', 'pass_technique', 'pass_through_ball', 'pass_type',\n",
       "       'period', 'play_pattern', 'player', 'player_id', 'position',\n",
       "       'possession', 'possession_team', 'possession_team_id', 'related_events',\n",
       "       'second', 'team', 'team_id', 'timestamp', 'type', 'under_pressure',\n",
       "       'pass_goal_assist', 'pass_straight', 'pass_no_touch',\n",
       "       'pass_miscommunication', 'formation_x', 'player_name_x',\n",
       "       'position_id_x', 'position_name_x', 'jersey_number_x'],\n",
       "      dtype='object')"
      ]
     },
     "execution_count": 158,
     "metadata": {},
     "output_type": "execute_result"
    }
   ],
   "source": [
    "# check to see all remaining columns\n",
    "key_passes_and_assists.columns"
   ]
  },
  {
   "cell_type": "code",
   "execution_count": 161,
   "metadata": {},
   "outputs": [
    {
     "data": {
      "text/plain": [
       "27             Left Center Midfield\n",
       "64        Center Defensive Midfield\n",
       "123                   Left Midfield\n",
       "165                   Left Midfield\n",
       "409                  Right Midfield\n",
       "                    ...            \n",
       "368403        Right Center Midfield\n",
       "368429                   Right Wing\n",
       "368436                   Right Wing\n",
       "368487               Center Forward\n",
       "368560                    Left Wing\n",
       "Name: position, Length: 7175, dtype: object"
      ]
     },
     "execution_count": 161,
     "metadata": {},
     "output_type": "execute_result"
    }
   ],
   "source": [
    "# for seeing which columns have which type of data (numerical, categorical, etc.), useful for encoding later on\n",
    "key_passes_and_assists['position']"
   ]
  },
  {
   "cell_type": "code",
   "execution_count": 96,
   "metadata": {},
   "outputs": [],
   "source": [
    "# separating the meaningful features for clustering into separate df\n",
    "selected_features = [\n",
    "    'location',\n",
    "    'pass_angle', 'pass_body_part', 'pass_deflected', 'pass_end_location', \n",
    "    'pass_height', 'pass_length', 'pass_shot_assist', 'pass_technique', \n",
    "    'play_pattern', 'position', 'under_pressure', 'pass_goal_assist'\n",
    "]\n",
    "\n",
    "df_clustering = key_passes_and_assists[selected_features]"
   ]
  },
  {
   "cell_type": "code",
   "execution_count": 97,
   "metadata": {},
   "outputs": [
    {
     "name": "stderr",
     "output_type": "stream",
     "text": [
      "/var/folders/4m/2n3yzlf10012wdm94p3176pm0000gn/T/ipykernel_27584/4213599729.py:3: SettingWithCopyWarning: \n",
      "A value is trying to be set on a copy of a slice from a DataFrame.\n",
      "Try using .loc[row_indexer,col_indexer] = value instead\n",
      "\n",
      "See the caveats in the documentation: https://pandas.pydata.org/pandas-docs/stable/user_guide/indexing.html#returning-a-view-versus-a-copy\n",
      "  df_clustering[['pass_end_x', 'pass_end_y']] = pd.DataFrame(df_clustering['pass_end_location'].to_list(), index=df_clustering.index)\n",
      "/var/folders/4m/2n3yzlf10012wdm94p3176pm0000gn/T/ipykernel_27584/4213599729.py:3: SettingWithCopyWarning: \n",
      "A value is trying to be set on a copy of a slice from a DataFrame.\n",
      "Try using .loc[row_indexer,col_indexer] = value instead\n",
      "\n",
      "See the caveats in the documentation: https://pandas.pydata.org/pandas-docs/stable/user_guide/indexing.html#returning-a-view-versus-a-copy\n",
      "  df_clustering[['pass_end_x', 'pass_end_y']] = pd.DataFrame(df_clustering['pass_end_location'].to_list(), index=df_clustering.index)\n",
      "/var/folders/4m/2n3yzlf10012wdm94p3176pm0000gn/T/ipykernel_27584/4213599729.py:6: SettingWithCopyWarning: \n",
      "A value is trying to be set on a copy of a slice from a DataFrame.\n",
      "Try using .loc[row_indexer,col_indexer] = value instead\n",
      "\n",
      "See the caveats in the documentation: https://pandas.pydata.org/pandas-docs/stable/user_guide/indexing.html#returning-a-view-versus-a-copy\n",
      "  df_clustering[['location_x', 'location_y']] = pd.DataFrame(df_clustering['location'].to_list(), index=df_clustering.index)\n",
      "/var/folders/4m/2n3yzlf10012wdm94p3176pm0000gn/T/ipykernel_27584/4213599729.py:6: SettingWithCopyWarning: \n",
      "A value is trying to be set on a copy of a slice from a DataFrame.\n",
      "Try using .loc[row_indexer,col_indexer] = value instead\n",
      "\n",
      "See the caveats in the documentation: https://pandas.pydata.org/pandas-docs/stable/user_guide/indexing.html#returning-a-view-versus-a-copy\n",
      "  df_clustering[['location_x', 'location_y']] = pd.DataFrame(df_clustering['location'].to_list(), index=df_clustering.index)\n"
     ]
    },
    {
     "data": {
      "text/html": [
       "<div>\n",
       "<style scoped>\n",
       "    .dataframe tbody tr th:only-of-type {\n",
       "        vertical-align: middle;\n",
       "    }\n",
       "\n",
       "    .dataframe tbody tr th {\n",
       "        vertical-align: top;\n",
       "    }\n",
       "\n",
       "    .dataframe thead th {\n",
       "        text-align: right;\n",
       "    }\n",
       "</style>\n",
       "<table border=\"1\" class=\"dataframe\">\n",
       "  <thead>\n",
       "    <tr style=\"text-align: right;\">\n",
       "      <th></th>\n",
       "      <th>pass_end_x</th>\n",
       "      <th>pass_end_y</th>\n",
       "      <th>location_x</th>\n",
       "      <th>location_y</th>\n",
       "    </tr>\n",
       "  </thead>\n",
       "  <tbody>\n",
       "    <tr>\n",
       "      <th>50</th>\n",
       "      <td>108.1</td>\n",
       "      <td>25.6</td>\n",
       "      <td>93.5</td>\n",
       "      <td>39.3</td>\n",
       "    </tr>\n",
       "    <tr>\n",
       "      <th>119</th>\n",
       "      <td>105.3</td>\n",
       "      <td>62.8</td>\n",
       "      <td>63.8</td>\n",
       "      <td>60.1</td>\n",
       "    </tr>\n",
       "    <tr>\n",
       "      <th>214</th>\n",
       "      <td>114.3</td>\n",
       "      <td>51.3</td>\n",
       "      <td>86.9</td>\n",
       "      <td>14.5</td>\n",
       "    </tr>\n",
       "    <tr>\n",
       "      <th>289</th>\n",
       "      <td>114.3</td>\n",
       "      <td>40.2</td>\n",
       "      <td>119.6</td>\n",
       "      <td>27.8</td>\n",
       "    </tr>\n",
       "    <tr>\n",
       "      <th>634</th>\n",
       "      <td>99.3</td>\n",
       "      <td>17.7</td>\n",
       "      <td>64.4</td>\n",
       "      <td>26.3</td>\n",
       "    </tr>\n",
       "  </tbody>\n",
       "</table>\n",
       "</div>"
      ],
      "text/plain": [
       "     pass_end_x  pass_end_y  location_x  location_y\n",
       "50        108.1        25.6        93.5        39.3\n",
       "119       105.3        62.8        63.8        60.1\n",
       "214       114.3        51.3        86.9        14.5\n",
       "289       114.3        40.2       119.6        27.8\n",
       "634        99.3        17.7        64.4        26.3"
      ]
     },
     "execution_count": 97,
     "metadata": {},
     "output_type": "execute_result"
    }
   ],
   "source": [
    "# Making separate coordinate columns for encoding\n",
    "# Extract x and y coordinates from 'pass_end_location'\n",
    "df_clustering[['pass_end_x', 'pass_end_y']] = pd.DataFrame(df_clustering['pass_end_location'].to_list(), index=df_clustering.index)\n",
    "\n",
    "# Extract x and y coordinates from 'location'\n",
    "df_clustering[['location_x', 'location_y']] = pd.DataFrame(df_clustering['location'].to_list(), index=df_clustering.index)\n",
    "\n",
    "# Drop the original columns containing the lists if you no longer need them\n",
    "df_clustering = df_clustering.drop(['pass_end_location', 'location'], axis=1)\n",
    "\n",
    "# Check the data\n",
    "df_clustering[['pass_end_x', 'pass_end_y', 'location_x', 'location_y']].head()\n"
   ]
  },
  {
   "cell_type": "code",
   "execution_count": 98,
   "metadata": {},
   "outputs": [
    {
     "data": {
      "text/html": [
       "<div>\n",
       "<style scoped>\n",
       "    .dataframe tbody tr th:only-of-type {\n",
       "        vertical-align: middle;\n",
       "    }\n",
       "\n",
       "    .dataframe tbody tr th {\n",
       "        vertical-align: top;\n",
       "    }\n",
       "\n",
       "    .dataframe thead th {\n",
       "        text-align: right;\n",
       "    }\n",
       "</style>\n",
       "<table border=\"1\" class=\"dataframe\">\n",
       "  <thead>\n",
       "    <tr style=\"text-align: right;\">\n",
       "      <th></th>\n",
       "      <th>pass_goal_assist</th>\n",
       "      <th>pass_shot_assist</th>\n",
       "    </tr>\n",
       "  </thead>\n",
       "  <tbody>\n",
       "    <tr>\n",
       "      <th>50</th>\n",
       "      <td>NaN</td>\n",
       "      <td>True</td>\n",
       "    </tr>\n",
       "    <tr>\n",
       "      <th>119</th>\n",
       "      <td>NaN</td>\n",
       "      <td>True</td>\n",
       "    </tr>\n",
       "    <tr>\n",
       "      <th>214</th>\n",
       "      <td>NaN</td>\n",
       "      <td>True</td>\n",
       "    </tr>\n",
       "    <tr>\n",
       "      <th>289</th>\n",
       "      <td>NaN</td>\n",
       "      <td>True</td>\n",
       "    </tr>\n",
       "    <tr>\n",
       "      <th>634</th>\n",
       "      <td>NaN</td>\n",
       "      <td>True</td>\n",
       "    </tr>\n",
       "  </tbody>\n",
       "</table>\n",
       "</div>"
      ],
      "text/plain": [
       "    pass_goal_assist pass_shot_assist\n",
       "50               NaN             True\n",
       "119              NaN             True\n",
       "214              NaN             True\n",
       "289              NaN             True\n",
       "634              NaN             True"
      ]
     },
     "execution_count": 98,
     "metadata": {},
     "output_type": "execute_result"
    }
   ],
   "source": [
    "# another check to see if all rows are either a shot assist or a goal assist\n",
    "df_clustering[['pass_goal_assist', 'pass_shot_assist']].head()"
   ]
  },
  {
   "cell_type": "code",
   "execution_count": 129,
   "metadata": {},
   "outputs": [],
   "source": [
    "# Putting it ina csv so as to save progress\n",
    "df_clustering.to_csv('df_clustering.csv', index=False)"
   ]
  },
  {
   "cell_type": "code",
   "execution_count": 162,
   "metadata": {},
   "outputs": [
    {
     "data": {
      "text/plain": [
       "array([ 0.,  1., nan])"
      ]
     },
     "execution_count": 162,
     "metadata": {},
     "output_type": "execute_result"
    }
   ],
   "source": [
    "df_clustering['pass_deflected'].unique()"
   ]
  },
  {
   "cell_type": "code",
   "execution_count": 123,
   "metadata": {},
   "outputs": [
    {
     "name": "stdout",
     "output_type": "stream",
     "text": [
      "Transformed pass_length (first 5 values):\n",
      "     pass_length  pass_length_scaled\n",
      "50     20.021238           -0.258571\n",
      "119    41.587738            1.337984\n",
      "214    45.880280            1.655758\n",
      "289    13.485177           -0.742431\n",
      "634    35.943985            0.920180\n"
     ]
    }
   ],
   "source": [
    "# encoding pass_length\n",
    "\n",
    "from sklearn.preprocessing import StandardScaler\n",
    "\n",
    "# Choose the numeric column for transformation\n",
    "numeric_col = 'pass_length'\n",
    "scaler = StandardScaler()\n",
    "\n",
    "# Reshape the data to fit the scaler and apply the transformation\n",
    "numeric_transformed = scaler.fit_transform(df_clustering[[numeric_col]])\n",
    "\n",
    "# Convert the transformed values back to a DataFrame\n",
    "df_clustering['pass_length_scaled'] = numeric_transformed\n",
    "\n",
    "# Check the first 5 rows of the transformed column\n",
    "print(\"Transformed pass_length (first 5 values):\")\n",
    "print(df_clustering[['pass_length', 'pass_length_scaled']].head())  # Shows original and scaled values\n",
    "df_clustering.drop(columns=['pass_length'], inplace=True)\n"
   ]
  },
  {
   "cell_type": "code",
   "execution_count": 111,
   "metadata": {},
   "outputs": [],
   "source": [
    "# replacing nan values in pass_body_part with 'unknown'\n",
    "\n",
    "df_clustering['pass_body_part'] = df_clustering['pass_body_part'].fillna('Unknown')\n"
   ]
  },
  {
   "cell_type": "code",
   "execution_count": null,
   "metadata": {},
   "outputs": [
    {
     "name": "stderr",
     "output_type": "stream",
     "text": [
      "/Users/megheaiani/anaconda3/lib/python3.11/site-packages/sklearn/preprocessing/_encoders.py:975: FutureWarning: `sparse` was renamed to `sparse_output` in version 1.2 and will be removed in 1.4. `sparse_output` is ignored unless you leave `sparse` to its default value.\n",
      "  warnings.warn(\n"
     ]
    },
    {
     "data": {
      "text/html": [
       "<div>\n",
       "<style scoped>\n",
       "    .dataframe tbody tr th:only-of-type {\n",
       "        vertical-align: middle;\n",
       "    }\n",
       "\n",
       "    .dataframe tbody tr th {\n",
       "        vertical-align: top;\n",
       "    }\n",
       "\n",
       "    .dataframe thead th {\n",
       "        text-align: right;\n",
       "    }\n",
       "</style>\n",
       "<table border=\"1\" class=\"dataframe\">\n",
       "  <thead>\n",
       "    <tr style=\"text-align: right;\">\n",
       "      <th></th>\n",
       "      <th>pass_angle</th>\n",
       "      <th>pass_deflected</th>\n",
       "      <th>pass_height</th>\n",
       "      <th>pass_length</th>\n",
       "      <th>pass_shot_assist</th>\n",
       "      <th>pass_technique</th>\n",
       "      <th>play_pattern</th>\n",
       "      <th>position</th>\n",
       "      <th>under_pressure</th>\n",
       "      <th>pass_goal_assist</th>\n",
       "      <th>...</th>\n",
       "      <th>location_x</th>\n",
       "      <th>location_y</th>\n",
       "      <th>pass_body_part_Drop Kick</th>\n",
       "      <th>pass_body_part_Head</th>\n",
       "      <th>pass_body_part_Keeper Arm</th>\n",
       "      <th>pass_body_part_Left Foot</th>\n",
       "      <th>pass_body_part_No Touch</th>\n",
       "      <th>pass_body_part_Other</th>\n",
       "      <th>pass_body_part_Right Foot</th>\n",
       "      <th>pass_body_part_Unknown</th>\n",
       "    </tr>\n",
       "  </thead>\n",
       "  <tbody>\n",
       "    <tr>\n",
       "      <th>50</th>\n",
       "      <td>-0.753607</td>\n",
       "      <td>0.0</td>\n",
       "      <td>Ground Pass</td>\n",
       "      <td>20.021238</td>\n",
       "      <td>True</td>\n",
       "      <td>NaN</td>\n",
       "      <td>Regular Play</td>\n",
       "      <td>Left Center Midfield</td>\n",
       "      <td>NaN</td>\n",
       "      <td>NaN</td>\n",
       "      <td>...</td>\n",
       "      <td>93.5</td>\n",
       "      <td>39.3</td>\n",
       "      <td>0.0</td>\n",
       "      <td>0.0</td>\n",
       "      <td>0.0</td>\n",
       "      <td>0.0</td>\n",
       "      <td>0.0</td>\n",
       "      <td>0.0</td>\n",
       "      <td>1.0</td>\n",
       "      <td>0.0</td>\n",
       "    </tr>\n",
       "    <tr>\n",
       "      <th>119</th>\n",
       "      <td>0.064969</td>\n",
       "      <td>0.0</td>\n",
       "      <td>High Pass</td>\n",
       "      <td>41.587738</td>\n",
       "      <td>True</td>\n",
       "      <td>NaN</td>\n",
       "      <td>Regular Play</td>\n",
       "      <td>Center Defensive Midfield</td>\n",
       "      <td>NaN</td>\n",
       "      <td>NaN</td>\n",
       "      <td>...</td>\n",
       "      <td>63.8</td>\n",
       "      <td>60.1</td>\n",
       "      <td>0.0</td>\n",
       "      <td>0.0</td>\n",
       "      <td>0.0</td>\n",
       "      <td>1.0</td>\n",
       "      <td>0.0</td>\n",
       "      <td>0.0</td>\n",
       "      <td>0.0</td>\n",
       "      <td>0.0</td>\n",
       "    </tr>\n",
       "    <tr>\n",
       "      <th>214</th>\n",
       "      <td>0.930783</td>\n",
       "      <td>0.0</td>\n",
       "      <td>High Pass</td>\n",
       "      <td>45.880280</td>\n",
       "      <td>True</td>\n",
       "      <td>NaN</td>\n",
       "      <td>Regular Play</td>\n",
       "      <td>Left Midfield</td>\n",
       "      <td>NaN</td>\n",
       "      <td>NaN</td>\n",
       "      <td>...</td>\n",
       "      <td>86.9</td>\n",
       "      <td>14.5</td>\n",
       "      <td>0.0</td>\n",
       "      <td>0.0</td>\n",
       "      <td>0.0</td>\n",
       "      <td>0.0</td>\n",
       "      <td>0.0</td>\n",
       "      <td>0.0</td>\n",
       "      <td>1.0</td>\n",
       "      <td>0.0</td>\n",
       "    </tr>\n",
       "    <tr>\n",
       "      <th>289</th>\n",
       "      <td>1.974714</td>\n",
       "      <td>0.0</td>\n",
       "      <td>High Pass</td>\n",
       "      <td>13.485177</td>\n",
       "      <td>True</td>\n",
       "      <td>NaN</td>\n",
       "      <td>From Throw In</td>\n",
       "      <td>Left Midfield</td>\n",
       "      <td>NaN</td>\n",
       "      <td>NaN</td>\n",
       "      <td>...</td>\n",
       "      <td>119.6</td>\n",
       "      <td>27.8</td>\n",
       "      <td>0.0</td>\n",
       "      <td>0.0</td>\n",
       "      <td>0.0</td>\n",
       "      <td>0.0</td>\n",
       "      <td>0.0</td>\n",
       "      <td>0.0</td>\n",
       "      <td>1.0</td>\n",
       "      <td>0.0</td>\n",
       "    </tr>\n",
       "    <tr>\n",
       "      <th>634</th>\n",
       "      <td>-0.241605</td>\n",
       "      <td>0.0</td>\n",
       "      <td>Ground Pass</td>\n",
       "      <td>35.943985</td>\n",
       "      <td>True</td>\n",
       "      <td>NaN</td>\n",
       "      <td>From Throw In</td>\n",
       "      <td>Right Midfield</td>\n",
       "      <td>NaN</td>\n",
       "      <td>NaN</td>\n",
       "      <td>...</td>\n",
       "      <td>64.4</td>\n",
       "      <td>26.3</td>\n",
       "      <td>0.0</td>\n",
       "      <td>0.0</td>\n",
       "      <td>0.0</td>\n",
       "      <td>1.0</td>\n",
       "      <td>0.0</td>\n",
       "      <td>0.0</td>\n",
       "      <td>0.0</td>\n",
       "      <td>0.0</td>\n",
       "    </tr>\n",
       "  </tbody>\n",
       "</table>\n",
       "<p>5 rows × 22 columns</p>\n",
       "</div>"
      ],
      "text/plain": [
       "     pass_angle  pass_deflected  pass_height  pass_length pass_shot_assist  \\\n",
       "50    -0.753607             0.0  Ground Pass    20.021238             True   \n",
       "119    0.064969             0.0    High Pass    41.587738             True   \n",
       "214    0.930783             0.0    High Pass    45.880280             True   \n",
       "289    1.974714             0.0    High Pass    13.485177             True   \n",
       "634   -0.241605             0.0  Ground Pass    35.943985             True   \n",
       "\n",
       "    pass_technique   play_pattern                   position under_pressure  \\\n",
       "50             NaN   Regular Play       Left Center Midfield            NaN   \n",
       "119            NaN   Regular Play  Center Defensive Midfield            NaN   \n",
       "214            NaN   Regular Play              Left Midfield            NaN   \n",
       "289            NaN  From Throw In              Left Midfield            NaN   \n",
       "634            NaN  From Throw In             Right Midfield            NaN   \n",
       "\n",
       "    pass_goal_assist  ...  location_x  location_y  pass_body_part_Drop Kick  \\\n",
       "50               NaN  ...        93.5        39.3                       0.0   \n",
       "119              NaN  ...        63.8        60.1                       0.0   \n",
       "214              NaN  ...        86.9        14.5                       0.0   \n",
       "289              NaN  ...       119.6        27.8                       0.0   \n",
       "634              NaN  ...        64.4        26.3                       0.0   \n",
       "\n",
       "     pass_body_part_Head  pass_body_part_Keeper Arm  pass_body_part_Left Foot  \\\n",
       "50                   0.0                        0.0                       0.0   \n",
       "119                  0.0                        0.0                       1.0   \n",
       "214                  0.0                        0.0                       0.0   \n",
       "289                  0.0                        0.0                       0.0   \n",
       "634                  0.0                        0.0                       1.0   \n",
       "\n",
       "     pass_body_part_No Touch  pass_body_part_Other  pass_body_part_Right Foot  \\\n",
       "50                       0.0                   0.0                        1.0   \n",
       "119                      0.0                   0.0                        0.0   \n",
       "214                      0.0                   0.0                        1.0   \n",
       "289                      0.0                   0.0                        1.0   \n",
       "634                      0.0                   0.0                        0.0   \n",
       "\n",
       "     pass_body_part_Unknown  \n",
       "50                      0.0  \n",
       "119                     0.0  \n",
       "214                     0.0  \n",
       "289                     0.0  \n",
       "634                     0.0  \n",
       "\n",
       "[5 rows x 22 columns]"
      ]
     },
     "execution_count": 119,
     "metadata": {},
     "output_type": "execute_result"
    }
   ],
   "source": [
    "# encoding pass_body_part\n",
    "\n",
    "from sklearn.preprocessing import OneHotEncoder\n",
    "import pandas as pd\n",
    "\n",
    "# Select the categorical column to encode\n",
    "categorical_col = 'pass_body_part'\n",
    "\n",
    "# Create the encoder, set to ignore unknown categories during transformation\n",
    "encoder = OneHotEncoder(handle_unknown='ignore', sparse=False)\n",
    "\n",
    "# Apply one-hot encoding to the selected column\n",
    "categorical_transformed = encoder.fit_transform(df_clustering[[categorical_col]])\n",
    "\n",
    "# Convert the result to a DataFrame, with column names as the encoded categories\n",
    "encoded_df = pd.DataFrame(categorical_transformed, columns=encoder.get_feature_names_out([categorical_col]))\n",
    "\n",
    "# Concatenate the new encoded columns back into the original DataFrame\n",
    "df_clustering = pd.concat([df_clustering, encoded_df], axis=1)\n",
    "\n",
    "# Drop the original column since we now have the encoded features\n",
    "df_clustering.drop(columns=[categorical_col], inplace=True)\n",
    "\n",
    "# Check the changes\n",
    "df_clustering.head()\n"
   ]
  },
  {
   "cell_type": "code",
   "execution_count": 115,
   "metadata": {},
   "outputs": [
    {
     "data": {
      "text/plain": [
       "50    -0.753607\n",
       "119    0.064969\n",
       "214    0.930783\n",
       "289    1.974714\n",
       "634   -0.241605\n",
       "Name: pass_angle, dtype: float64"
      ]
     },
     "execution_count": 115,
     "metadata": {},
     "output_type": "execute_result"
    }
   ],
   "source": [
    "# encoding pass_angle \n",
    "\n",
    "# Handling NaN values if necessary and making sure pass_angle is numeric\n",
    "df_clustering['pass_angle'] = pd.to_numeric(df_clustering['pass_angle'], errors='coerce')\n",
    "\n",
    "# Optionally, fill NaN values with the mean (or you can choose a different strategy)\n",
    "df_clustering['pass_angle'].fillna(df_clustering['pass_angle'].mean(), inplace=True)\n",
    "\n",
    "# Check the changes\n",
    "df_clustering['pass_angle'].head()\n"
   ]
  },
  {
   "cell_type": "code",
   "execution_count": 117,
   "metadata": {},
   "outputs": [
    {
     "data": {
      "text/plain": [
       "50     0\n",
       "119    0\n",
       "214    0\n",
       "289    0\n",
       "634    0\n",
       "Name: pass_deflected, dtype: int64"
      ]
     },
     "execution_count": 117,
     "metadata": {},
     "output_type": "execute_result"
    }
   ],
   "source": [
    "# encoding pass_deflected\n",
    "\n",
    "# Convert pass_deflected to numeric: True becomes 1, NaN becomes 0 (False)\n",
    "df_clustering['pass_deflected'] = df_clustering['pass_deflected'].apply(lambda x: 1 if x == True else 0)\n",
    "\n",
    "# Check the changes\n",
    "df_clustering['pass_deflected'].head()\n"
   ]
  },
  {
   "cell_type": "code",
   "execution_count": null,
   "metadata": {},
   "outputs": [
    {
     "name": "stdout",
     "output_type": "stream",
     "text": [
      "     pass_angle  pass_deflected  pass_height pass_shot_assist pass_technique  \\\n",
      "50    -0.753607             0.0  Ground Pass             True            NaN   \n",
      "119    0.064969             0.0    High Pass             True            NaN   \n",
      "214    0.930783             0.0    High Pass             True            NaN   \n",
      "289    1.974714             0.0    High Pass             True            NaN   \n",
      "634   -0.241605             0.0  Ground Pass             True            NaN   \n",
      "\n",
      "      play_pattern                   position under_pressure pass_goal_assist  \\\n",
      "50    Regular Play       Left Center Midfield            NaN              NaN   \n",
      "119   Regular Play  Center Defensive Midfield            NaN              NaN   \n",
      "214   Regular Play              Left Midfield            NaN              NaN   \n",
      "289  From Throw In              Left Midfield            NaN              NaN   \n",
      "634  From Throw In             Right Midfield            NaN              NaN   \n",
      "\n",
      "     pass_end_x  ...  location_y  pass_body_part_Drop Kick  \\\n",
      "50     0.611995  ...   -0.042865                       0.0   \n",
      "119    0.385174  ...    0.839154                       0.0   \n",
      "214    1.114241  ...   -1.094502                       0.0   \n",
      "289    1.114241  ...   -0.530519                       0.0   \n",
      "634   -0.100870  ...   -0.594126                       0.0   \n",
      "\n",
      "     pass_body_part_Head  pass_body_part_Keeper Arm  pass_body_part_Left Foot  \\\n",
      "50                   0.0                        0.0                       0.0   \n",
      "119                  0.0                        0.0                       1.0   \n",
      "214                  0.0                        0.0                       0.0   \n",
      "289                  0.0                        0.0                       0.0   \n",
      "634                  0.0                        0.0                       1.0   \n",
      "\n",
      "     pass_body_part_No Touch  pass_body_part_Other  pass_body_part_Right Foot  \\\n",
      "50                       0.0                   0.0                        1.0   \n",
      "119                      0.0                   0.0                        0.0   \n",
      "214                      0.0                   0.0                        1.0   \n",
      "289                      0.0                   0.0                        1.0   \n",
      "634                      0.0                   0.0                        0.0   \n",
      "\n",
      "     pass_body_part_Unknown  pass_length_scaled  \n",
      "50                      0.0           -0.258571  \n",
      "119                     0.0            1.337984  \n",
      "214                     0.0            1.655758  \n",
      "289                     0.0           -0.742431  \n",
      "634                     0.0            0.920180  \n",
      "\n",
      "[5 rows x 22 columns]\n"
     ]
    }
   ],
   "source": [
    "# encoding start and end locations\n",
    "\n",
    "from sklearn.preprocessing import StandardScaler\n",
    "\n",
    "# Select the coordinates columns (assuming 'location_x', 'location_y', 'pass_end_location_x', 'pass_end_location_y' exist)\n",
    "coordinate_cols = ['location_x', 'location_y', 'pass_end_x', 'pass_end_y']\n",
    "scaler = StandardScaler()\n",
    "\n",
    "# Apply scaling to the coordinates\n",
    "df_clustering[coordinate_cols] = scaler.fit_transform(df_clustering[coordinate_cols])\n",
    "\n",
    "\n",
    "\n",
    "# Check the updated dataframe\n",
    "print(df_clustering.head())\n"
   ]
  },
  {
   "cell_type": "code",
   "execution_count": 127,
   "metadata": {},
   "outputs": [
    {
     "name": "stdout",
     "output_type": "stream",
     "text": [
      "     pass_angle  pass_deflected pass_shot_assist pass_technique  \\\n",
      "50    -0.753607             0.0             True            NaN   \n",
      "119    0.064969             0.0             True            NaN   \n",
      "214    0.930783             0.0             True            NaN   \n",
      "289    1.974714             0.0             True            NaN   \n",
      "634   -0.241605             0.0             True            NaN   \n",
      "\n",
      "      play_pattern                   position under_pressure pass_goal_assist  \\\n",
      "50    Regular Play       Left Center Midfield            NaN              NaN   \n",
      "119   Regular Play  Center Defensive Midfield            NaN              NaN   \n",
      "214   Regular Play              Left Midfield            NaN              NaN   \n",
      "289  From Throw In              Left Midfield            NaN              NaN   \n",
      "634  From Throw In             Right Midfield            NaN              NaN   \n",
      "\n",
      "     pass_end_x  pass_end_y  ...  pass_body_part_Left Foot  \\\n",
      "50     0.611995   -0.984560  ...                       0.0   \n",
      "119    0.385174    1.728574  ...                       1.0   \n",
      "214    1.114241    0.889836  ...                       0.0   \n",
      "289    1.114241    0.080272  ...                       0.0   \n",
      "634   -0.100870   -1.560737  ...                       1.0   \n",
      "\n",
      "     pass_body_part_No Touch  pass_body_part_Other  pass_body_part_Right Foot  \\\n",
      "50                       0.0                   0.0                        1.0   \n",
      "119                      0.0                   0.0                        0.0   \n",
      "214                      0.0                   0.0                        1.0   \n",
      "289                      0.0                   0.0                        1.0   \n",
      "634                      0.0                   0.0                        0.0   \n",
      "\n",
      "     pass_body_part_Unknown  pass_length_scaled  pass_height_Ground Pass  \\\n",
      "50                      0.0           -0.258571                      1.0   \n",
      "119                     0.0            1.337984                      1.0   \n",
      "214                     0.0            1.655758                      0.0   \n",
      "289                     0.0           -0.742431                      1.0   \n",
      "634                     0.0            0.920180                      1.0   \n",
      "\n",
      "     pass_height_High Pass  pass_height_Low Pass  pass_height_Unknown  \n",
      "50                     0.0                   0.0                  0.0  \n",
      "119                    0.0                   0.0                  0.0  \n",
      "214                    1.0                   0.0                  0.0  \n",
      "289                    0.0                   0.0                  0.0  \n",
      "634                    0.0                   0.0                  0.0  \n",
      "\n",
      "[5 rows x 25 columns]\n"
     ]
    }
   ],
   "source": [
    "# encoding pass_height\n",
    "from sklearn.preprocessing import OneHotEncoder\n",
    "\n",
    "# Fill NaN values in the 'pass_height' column with 'Unknown'\n",
    "df_clustering['pass_height'] = df_clustering['pass_height'].fillna('Unknown')\n",
    "\n",
    "# Select the 'pass_height' column for transformation\n",
    "categorical_col = 'pass_height'  # Choose the column\n",
    "encoder = OneHotEncoder(handle_unknown='ignore')\n",
    "\n",
    "# Fit and transform the 'pass_height' column\n",
    "pass_height_transformed = encoder.fit_transform(df_clustering[[categorical_col]])\n",
    "\n",
    "# Convert the transformed data into a DataFrame with appropriate column names\n",
    "pass_height_encoded_df = pd.DataFrame(pass_height_transformed.toarray(), columns=encoder.get_feature_names_out([categorical_col]))\n",
    "\n",
    "# Add the encoded columns to the original DataFrame\n",
    "df_clustering = pd.concat([df_clustering, pass_height_encoded_df], axis=1)\n",
    "\n",
    "# Drop the original 'pass_height' column\n",
    "df_clustering.drop(columns=[categorical_col], inplace=True)\n",
    "\n",
    "# Check the updated DataFrame\n",
    "print(df_clustering.head())\n"
   ]
  },
  {
   "cell_type": "code",
   "execution_count": 167,
   "metadata": {},
   "outputs": [
    {
     "name": "stdout",
     "output_type": "stream",
     "text": [
      "   pass_angle  pass_deflected pass_shot_assist   play_pattern  \\\n",
      "0   -0.753607             0.0             True   Regular Play   \n",
      "1    0.064969             0.0             True   Regular Play   \n",
      "2    0.930783             0.0             True   Regular Play   \n",
      "3    1.974714             0.0             True  From Throw In   \n",
      "4   -0.241605             0.0             True  From Throw In   \n",
      "\n",
      "                    position under_pressure pass_goal_assist  pass_end_x  \\\n",
      "0       Left Center Midfield            NaN              NaN    0.611995   \n",
      "1  Center Defensive Midfield            NaN              NaN    0.385174   \n",
      "2              Left Midfield            NaN              NaN    1.114241   \n",
      "3              Left Midfield            NaN              NaN    1.114241   \n",
      "4             Right Midfield            NaN              NaN   -0.100870   \n",
      "\n",
      "   pass_end_y  location_x  ...  pass_length_scaled  pass_height_Ground Pass  \\\n",
      "0   -0.984560   -0.073115  ...           -0.258571                      1.0   \n",
      "1    1.728574   -1.618698  ...            1.337984                      1.0   \n",
      "2    0.889836   -0.416578  ...            1.655758                      0.0   \n",
      "3    0.080272    1.285124  ...           -0.742431                      1.0   \n",
      "4   -1.560737   -1.587474  ...            0.920180                      1.0   \n",
      "\n",
      "   pass_height_High Pass  pass_height_Low Pass  pass_height_Unknown  \\\n",
      "0                    0.0                   0.0                  0.0   \n",
      "1                    0.0                   0.0                  0.0   \n",
      "2                    1.0                   0.0                  0.0   \n",
      "3                    0.0                   0.0                  0.0   \n",
      "4                    0.0                   0.0                  0.0   \n",
      "\n",
      "   pass_technique_Inswinging  pass_technique_Outswinging  \\\n",
      "0                        0.0                         0.0   \n",
      "1                        0.0                         0.0   \n",
      "2                        0.0                         0.0   \n",
      "3                        0.0                         0.0   \n",
      "4                        0.0                         0.0   \n",
      "\n",
      "   pass_technique_Straight  pass_technique_Through Ball  \\\n",
      "0                      0.0                          0.0   \n",
      "1                      0.0                          0.0   \n",
      "2                      0.0                          0.0   \n",
      "3                      0.0                          0.0   \n",
      "4                      0.0                          0.0   \n",
      "\n",
      "   pass_technique_Unknown  \n",
      "0                     1.0  \n",
      "1                     1.0  \n",
      "2                     1.0  \n",
      "3                     1.0  \n",
      "4                     1.0  \n",
      "\n",
      "[5 rows x 29 columns]\n"
     ]
    },
    {
     "name": "stderr",
     "output_type": "stream",
     "text": [
      "/Users/megheaiani/anaconda3/lib/python3.11/site-packages/sklearn/preprocessing/_encoders.py:975: FutureWarning: `sparse` was renamed to `sparse_output` in version 1.2 and will be removed in 1.4. `sparse_output` is ignored unless you leave `sparse` to its default value.\n",
      "  warnings.warn(\n"
     ]
    }
   ],
   "source": [
    "# Fill NaN values in 'pass_technique' with 'Unknown'\n",
    "df_clustering['pass_technique'] = df_clustering['pass_technique'].fillna('Unknown')\n",
    "\n",
    "# Initialize the one-hot encoder\n",
    "encoder = OneHotEncoder(handle_unknown='ignore', sparse=False)\n",
    "\n",
    "# Fit and transform the 'pass_technique' column\n",
    "encoded_technique = encoder.fit_transform(df_clustering[['pass_technique']])\n",
    "\n",
    "# Convert the encoded result into a DataFrame with proper column names\n",
    "encoded_technique_df = pd.DataFrame(\n",
    "    encoded_technique,\n",
    "    columns=[f\"pass_technique_{cat}\" for cat in encoder.categories_[0]],\n",
    "    index=df_clustering.index\n",
    ")\n",
    "\n",
    "# Add the encoded columns back to the DataFrame\n",
    "df_clustering = pd.concat([df_clustering, encoded_technique_df], axis=1)\n",
    "\n",
    "# Remove the original 'pass_technique' column\n",
    "df_clustering = df_clustering.drop(columns=['pass_technique'])\n",
    "\n",
    "# Check the updated DataFrame\n",
    "print(df_clustering.head())"
   ]
  },
  {
   "cell_type": "code",
   "execution_count": 170,
   "metadata": {},
   "outputs": [
    {
     "name": "stdout",
     "output_type": "stream",
     "text": [
      "   pass_angle  pass_deflected pass_shot_assist                   position  \\\n",
      "0   -0.753607             0.0             True       Left Center Midfield   \n",
      "1    0.064969             0.0             True  Center Defensive Midfield   \n",
      "2    0.930783             0.0             True              Left Midfield   \n",
      "3    1.974714             0.0             True              Left Midfield   \n",
      "4   -0.241605             0.0             True             Right Midfield   \n",
      "\n",
      "  under_pressure pass_goal_assist  pass_end_x  pass_end_y  location_x  \\\n",
      "0            NaN              NaN    0.611995   -0.984560   -0.073115   \n",
      "1            NaN              NaN    0.385174    1.728574   -1.618698   \n",
      "2            NaN              NaN    1.114241    0.889836   -0.416578   \n",
      "3            NaN              NaN    1.114241    0.080272    1.285124   \n",
      "4            NaN              NaN   -0.100870   -1.560737   -1.587474   \n",
      "\n",
      "   location_y  ...  play_pattern_From Corner  play_pattern_From Counter  \\\n",
      "0   -0.042865  ...                       0.0                        0.0   \n",
      "1    0.839154  ...                       0.0                        0.0   \n",
      "2   -1.094502  ...                       0.0                        0.0   \n",
      "3   -0.530519  ...                       0.0                        0.0   \n",
      "4   -0.594126  ...                       0.0                        0.0   \n",
      "\n",
      "   play_pattern_From Free Kick  play_pattern_From Goal Kick  \\\n",
      "0                          0.0                          0.0   \n",
      "1                          0.0                          0.0   \n",
      "2                          0.0                          0.0   \n",
      "3                          0.0                          0.0   \n",
      "4                          0.0                          0.0   \n",
      "\n",
      "   play_pattern_From Keeper  play_pattern_From Kick Off  \\\n",
      "0                       0.0                         0.0   \n",
      "1                       0.0                         0.0   \n",
      "2                       0.0                         0.0   \n",
      "3                       0.0                         0.0   \n",
      "4                       0.0                         0.0   \n",
      "\n",
      "   play_pattern_From Throw In  play_pattern_Other  play_pattern_Regular Play  \\\n",
      "0                         0.0                 0.0                        1.0   \n",
      "1                         0.0                 0.0                        1.0   \n",
      "2                         0.0                 0.0                        1.0   \n",
      "3                         1.0                 0.0                        0.0   \n",
      "4                         1.0                 0.0                        0.0   \n",
      "\n",
      "   play_pattern_Unknown  \n",
      "0                   0.0  \n",
      "1                   0.0  \n",
      "2                   0.0  \n",
      "3                   0.0  \n",
      "4                   0.0  \n",
      "\n",
      "[5 rows x 38 columns]\n"
     ]
    },
    {
     "name": "stderr",
     "output_type": "stream",
     "text": [
      "/Users/megheaiani/anaconda3/lib/python3.11/site-packages/sklearn/preprocessing/_encoders.py:975: FutureWarning: `sparse` was renamed to `sparse_output` in version 1.2 and will be removed in 1.4. `sparse_output` is ignored unless you leave `sparse` to its default value.\n",
      "  warnings.warn(\n"
     ]
    }
   ],
   "source": [
    "# Fill NaN values in 'play_pattern' with 'Unknown'\n",
    "df_clustering['play_pattern'] = df_clustering['play_pattern'].fillna('Unknown')\n",
    "\n",
    "# Initialize the one-hot encoder\n",
    "encoder = OneHotEncoder(handle_unknown='ignore', sparse=False)\n",
    "\n",
    "# Fit and transform the 'play_pattern' column\n",
    "encoded_pattern = encoder.fit_transform(df_clustering[['play_pattern']])\n",
    "\n",
    "# Convert the encoded result into a DataFrame with proper column names\n",
    "encoded_pattern_df = pd.DataFrame(\n",
    "    encoded_pattern,\n",
    "    columns=[f\"play_pattern_{cat}\" for cat in encoder.categories_[0]],\n",
    "    index=df_clustering.index\n",
    ")\n",
    "\n",
    "# Add the encoded columns back to the DataFrame\n",
    "df_clustering = pd.concat([df_clustering, encoded_pattern_df], axis=1)\n",
    "\n",
    "# Remove the original 'play_pattern' column\n",
    "df_clustering = df_clustering.drop(columns=['play_pattern'])\n",
    "\n",
    "# Check the updated DataFrame\n",
    "print(df_clustering.head())"
   ]
  },
  {
   "cell_type": "code",
   "execution_count": 173,
   "metadata": {},
   "outputs": [
    {
     "name": "stdout",
     "output_type": "stream",
     "text": [
      "   pass_shot_assist\n",
      "0                 1\n",
      "1                 1\n",
      "2                 1\n",
      "3                 1\n",
      "4                 1\n"
     ]
    }
   ],
   "source": [
    "# Fill NaN values with 0 and convert True to 1\n",
    "df_clustering['pass_shot_assist'] = df_clustering['pass_shot_assist'].notna().astype(int)\n",
    "\n",
    "# Check the updated DataFrame\n",
    "print(df_clustering[['pass_shot_assist']].head())\n"
   ]
  },
  {
   "cell_type": "code",
   "execution_count": 178,
   "metadata": {},
   "outputs": [
    {
     "name": "stdout",
     "output_type": "stream",
     "text": [
      "(7175, 38)\n"
     ]
    }
   ],
   "source": [
    "# A lot of duplicated rows, so we will drop them\n",
    "# Keep only the first 7176 rows\n",
    "df_clustering = df_clustering.iloc[:7175]\n",
    "\n",
    "# Check the shape to confirm\n",
    "print(df_clustering.shape)\n"
   ]
  },
  {
   "cell_type": "code",
   "execution_count": 181,
   "metadata": {},
   "outputs": [
    {
     "name": "stdout",
     "output_type": "stream",
     "text": [
      "Columns after removing pass_body_part encoding:\n",
      "Index(['pass_angle', 'pass_deflected', 'pass_shot_assist', 'position',\n",
      "       'under_pressure', 'pass_goal_assist', 'pass_end_x', 'pass_end_y',\n",
      "       'location_x', 'location_y', 'pass_length_scaled',\n",
      "       'pass_height_Ground Pass', 'pass_height_High Pass',\n",
      "       'pass_height_Low Pass', 'pass_height_Unknown',\n",
      "       'pass_technique_Inswinging', 'pass_technique_Outswinging',\n",
      "       'pass_technique_Straight', 'pass_technique_Through Ball',\n",
      "       'pass_technique_Unknown', 'play_pattern_From Corner',\n",
      "       'play_pattern_From Counter', 'play_pattern_From Free Kick',\n",
      "       'play_pattern_From Goal Kick', 'play_pattern_From Keeper',\n",
      "       'play_pattern_From Kick Off', 'play_pattern_From Throw In',\n",
      "       'play_pattern_Other', 'play_pattern_Regular Play',\n",
      "       'play_pattern_Unknown'],\n",
      "      dtype='object')\n"
     ]
    }
   ],
   "source": [
    "# pass body part is not encoded for all values, so I will do it again.\n",
    "# Remove all columns related to pass_body_part from df_clustering\n",
    "df_clustering = df_clustering.loc[:, ~df_clustering.columns.str.contains('^pass_body_part_')]\n",
    "\n",
    "# Confirm removal\n",
    "print(\"Columns after removing pass_body_part encoding:\")\n",
    "print(df_clustering.columns)\n"
   ]
  },
  {
   "cell_type": "code",
   "execution_count": 182,
   "metadata": {},
   "outputs": [
    {
     "name": "stdout",
     "output_type": "stream",
     "text": [
      "Updated df_clustering with original pass_body_part:\n",
      "  pass_body_part\n",
      "0     Right Foot\n",
      "1     Right Foot\n",
      "2      Left Foot\n",
      "3     Right Foot\n",
      "4     Right Foot\n"
     ]
    }
   ],
   "source": [
    "# Add the original pass_body_part column from all_passes back into df_clustering\n",
    "df_clustering['pass_body_part'] = all_passes['pass_body_part']\n",
    "\n",
    "# Confirm addition\n",
    "print(\"Updated df_clustering with original pass_body_part:\")\n",
    "print(df_clustering[['pass_body_part']].head())\n"
   ]
  },
  {
   "cell_type": "code",
   "execution_count": 183,
   "metadata": {},
   "outputs": [
    {
     "name": "stdout",
     "output_type": "stream",
     "text": [
      "Updated df_clustering after re-encoding pass_body_part:\n",
      "   pass_angle  pass_deflected  pass_shot_assist                   position  \\\n",
      "0   -0.753607             0.0                 1       Left Center Midfield   \n",
      "1    0.064969             0.0                 1  Center Defensive Midfield   \n",
      "2    0.930783             0.0                 1              Left Midfield   \n",
      "3    1.974714             0.0                 1              Left Midfield   \n",
      "4   -0.241605             0.0                 1             Right Midfield   \n",
      "\n",
      "  under_pressure pass_goal_assist  pass_end_x  pass_end_y  location_x  \\\n",
      "0            NaN              NaN    0.611995   -0.984560   -0.073115   \n",
      "1            NaN              NaN    0.385174    1.728574   -1.618698   \n",
      "2            NaN              NaN    1.114241    0.889836   -0.416578   \n",
      "3            NaN              NaN    1.114241    0.080272    1.285124   \n",
      "4            NaN              NaN   -0.100870   -1.560737   -1.587474   \n",
      "\n",
      "   location_y  ...  play_pattern_Regular Play  play_pattern_Unknown  \\\n",
      "0   -0.042865  ...                        1.0                   0.0   \n",
      "1    0.839154  ...                        1.0                   0.0   \n",
      "2   -1.094502  ...                        1.0                   0.0   \n",
      "3   -0.530519  ...                        0.0                   0.0   \n",
      "4   -0.594126  ...                        0.0                   0.0   \n",
      "\n",
      "   pass_body_part_Drop Kick  pass_body_part_Head  pass_body_part_Keeper Arm  \\\n",
      "0                       0.0                  0.0                        0.0   \n",
      "1                       0.0                  0.0                        0.0   \n",
      "2                       0.0                  0.0                        0.0   \n",
      "3                       0.0                  0.0                        0.0   \n",
      "4                       0.0                  0.0                        0.0   \n",
      "\n",
      "   pass_body_part_Left Foot  pass_body_part_No Touch  pass_body_part_Other  \\\n",
      "0                       0.0                      0.0                   0.0   \n",
      "1                       0.0                      0.0                   0.0   \n",
      "2                       1.0                      0.0                   0.0   \n",
      "3                       0.0                      0.0                   0.0   \n",
      "4                       0.0                      0.0                   0.0   \n",
      "\n",
      "   pass_body_part_Right Foot  pass_body_part_nan  \n",
      "0                        1.0                 0.0  \n",
      "1                        1.0                 0.0  \n",
      "2                        0.0                 0.0  \n",
      "3                        1.0                 0.0  \n",
      "4                        1.0                 0.0  \n",
      "\n",
      "[5 rows x 38 columns]\n"
     ]
    }
   ],
   "source": [
    "# Encode pass_body_part with OneHotEncoder\n",
    "encoder = OneHotEncoder(handle_unknown='ignore')\n",
    "pass_body_part_encoded = encoder.fit_transform(df_clustering[['pass_body_part']])\n",
    "\n",
    "# Convert the encoded sparse matrix to a DataFrame\n",
    "pass_body_part_encoded_df = pd.DataFrame(\n",
    "    pass_body_part_encoded.toarray(),\n",
    "    columns=encoder.get_feature_names_out(['pass_body_part'])\n",
    ")\n",
    "\n",
    "# Reset index to align with df_clustering\n",
    "pass_body_part_encoded_df.reset_index(drop=True, inplace=True)\n",
    "\n",
    "# Add the encoded columns back into df_clustering\n",
    "df_clustering = pd.concat([df_clustering, pass_body_part_encoded_df], axis=1)\n",
    "\n",
    "# Drop the original pass_body_part column\n",
    "df_clustering.drop(columns=['pass_body_part'], inplace=True)\n",
    "\n",
    "# Confirm the updated DataFrame\n",
    "print(\"Updated df_clustering after re-encoding pass_body_part:\")\n",
    "print(df_clustering.head())"
   ]
  },
  {
   "cell_type": "code",
   "execution_count": 185,
   "metadata": {},
   "outputs": [
    {
     "name": "stdout",
     "output_type": "stream",
     "text": [
      "Columns after removing pass_height encoding:\n",
      "Index(['pass_angle', 'pass_deflected', 'pass_shot_assist', 'position',\n",
      "       'under_pressure', 'pass_goal_assist', 'pass_end_x', 'pass_end_y',\n",
      "       'location_x', 'location_y', 'pass_length_scaled',\n",
      "       'pass_technique_Inswinging', 'pass_technique_Outswinging',\n",
      "       'pass_technique_Straight', 'pass_technique_Through Ball',\n",
      "       'pass_technique_Unknown', 'play_pattern_From Corner',\n",
      "       'play_pattern_From Counter', 'play_pattern_From Free Kick',\n",
      "       'play_pattern_From Goal Kick', 'play_pattern_From Keeper',\n",
      "       'play_pattern_From Kick Off', 'play_pattern_From Throw In',\n",
      "       'play_pattern_Other', 'play_pattern_Regular Play',\n",
      "       'play_pattern_Unknown', 'pass_body_part_Drop Kick',\n",
      "       'pass_body_part_Head', 'pass_body_part_Keeper Arm',\n",
      "       'pass_body_part_Left Foot', 'pass_body_part_No Touch',\n",
      "       'pass_body_part_Other', 'pass_body_part_Right Foot',\n",
      "       'pass_body_part_nan'],\n",
      "      dtype='object')\n"
     ]
    }
   ],
   "source": [
    "# same process has to be done for pass_height\n",
    "# Remove all columns related to pass_height from df_clustering\n",
    "df_clustering = df_clustering.loc[:, ~df_clustering.columns.str.contains('^pass_height_')]\n",
    "\n",
    "# Confirm removal\n",
    "print(\"Columns after removing pass_height encoding:\")\n",
    "print(df_clustering.columns)\n"
   ]
  },
  {
   "cell_type": "code",
   "execution_count": 186,
   "metadata": {},
   "outputs": [
    {
     "name": "stdout",
     "output_type": "stream",
     "text": [
      "Updated df_clustering with original pass_height:\n",
      "   pass_height\n",
      "0  Ground Pass\n",
      "1  Ground Pass\n",
      "2  Ground Pass\n",
      "3  Ground Pass\n",
      "4  Ground Pass\n"
     ]
    }
   ],
   "source": [
    "# Add the original pass_height column from all_passes back into df_clustering\n",
    "df_clustering['pass_height'] = all_passes['pass_height']\n",
    "\n",
    "# Confirm addition\n",
    "print(\"Updated df_clustering with original pass_height:\")\n",
    "print(df_clustering[['pass_height']].head())\n"
   ]
  },
  {
   "cell_type": "code",
   "execution_count": 188,
   "metadata": {},
   "outputs": [
    {
     "name": "stdout",
     "output_type": "stream",
     "text": [
      "Updated df_clustering with ordinally encoded pass_height:\n",
      "   pass_height_encoded\n",
      "0                  0.0\n",
      "1                  0.0\n",
      "2                  0.0\n",
      "3                  0.0\n",
      "4                  0.0\n"
     ]
    }
   ],
   "source": [
    "# encoding pass height as an ordinal feature\n",
    "from sklearn.preprocessing import OrdinalEncoder\n",
    "\n",
    "# Define the ordinal order for pass_height\n",
    "ordinal_categories = [['Ground Pass', 'Low Pass', 'High Pass']]  # Ordered list of categories\n",
    "\n",
    "# Initialize the OrdinalEncoder with the specified order\n",
    "ordinal_encoder = OrdinalEncoder(categories=ordinal_categories)\n",
    "\n",
    "# Encode the pass_height column\n",
    "df_clustering['pass_height_encoded'] = ordinal_encoder.fit_transform(df_clustering[['pass_height']])\n",
    "\n",
    "# Drop the original pass_height column\n",
    "df_clustering.drop(columns=['pass_height'], inplace=True)\n",
    "\n",
    "# Confirm the results\n",
    "print(\"Updated df_clustering with ordinally encoded pass_height:\")\n",
    "print(df_clustering[['pass_height_encoded']].head())\n"
   ]
  },
  {
   "cell_type": "code",
   "execution_count": 193,
   "metadata": {},
   "outputs": [
    {
     "name": "stdout",
     "output_type": "stream",
     "text": [
      "Updated df_clustering with one-hot encoded 'position':\n",
      "   pass_angle  pass_deflected  pass_shot_assist under_pressure  \\\n",
      "0   -0.753607             0.0                 1            NaN   \n",
      "1    0.064969             0.0                 1            NaN   \n",
      "2    0.930783             0.0                 1            NaN   \n",
      "3    1.974714             0.0                 1            NaN   \n",
      "4   -0.241605             0.0                 1            NaN   \n",
      "\n",
      "  pass_goal_assist  pass_end_x  pass_end_y  location_x  location_y  \\\n",
      "0              NaN    0.611995   -0.984560   -0.073115   -0.042865   \n",
      "1              NaN    0.385174    1.728574   -1.618698    0.839154   \n",
      "2              NaN    1.114241    0.889836   -0.416578   -1.094502   \n",
      "3              NaN    1.114241    0.080272    1.285124   -0.530519   \n",
      "4              NaN   -0.100870   -1.560737   -1.587474   -0.594126   \n",
      "\n",
      "   pass_length_scaled  ...  position_Left Wing Back  \\\n",
      "0           -0.258571  ...                      0.0   \n",
      "1            1.337984  ...                      0.0   \n",
      "2            1.655758  ...                      0.0   \n",
      "3           -0.742431  ...                      0.0   \n",
      "4            0.920180  ...                      0.0   \n",
      "\n",
      "   position_Right Attacking Midfield  position_Right Back  \\\n",
      "0                                0.0                  0.0   \n",
      "1                                0.0                  0.0   \n",
      "2                                0.0                  0.0   \n",
      "3                                0.0                  0.0   \n",
      "4                                0.0                  0.0   \n",
      "\n",
      "   position_Right Center Back  position_Right Center Forward  \\\n",
      "0                         0.0                            0.0   \n",
      "1                         0.0                            0.0   \n",
      "2                         0.0                            0.0   \n",
      "3                         0.0                            0.0   \n",
      "4                         0.0                            0.0   \n",
      "\n",
      "   position_Right Center Midfield  position_Right Defensive Midfield  \\\n",
      "0                             0.0                                0.0   \n",
      "1                             0.0                                0.0   \n",
      "2                             0.0                                0.0   \n",
      "3                             0.0                                0.0   \n",
      "4                             0.0                                0.0   \n",
      "\n",
      "   position_Right Midfield  position_Right Wing  position_Right Wing Back  \n",
      "0                      0.0                  0.0                       0.0  \n",
      "1                      0.0                  0.0                       0.0  \n",
      "2                      0.0                  0.0                       0.0  \n",
      "3                      0.0                  0.0                       0.0  \n",
      "4                      1.0                  0.0                       0.0  \n",
      "\n",
      "[5 rows x 57 columns]\n"
     ]
    },
    {
     "name": "stderr",
     "output_type": "stream",
     "text": [
      "/Users/megheaiani/anaconda3/lib/python3.11/site-packages/sklearn/preprocessing/_encoders.py:975: FutureWarning: `sparse` was renamed to `sparse_output` in version 1.2 and will be removed in 1.4. `sparse_output` is ignored unless you leave `sparse` to its default value.\n",
      "  warnings.warn(\n"
     ]
    }
   ],
   "source": [
    "# encoding position\n",
    "from sklearn.preprocessing import OneHotEncoder\n",
    "\n",
    "# Initialize the OneHotEncoder\n",
    "position_encoder = OneHotEncoder(sparse=False, handle_unknown='ignore')\n",
    "\n",
    "# Fit and transform the position column\n",
    "position_encoded = position_encoder.fit_transform(df_clustering[['position']])\n",
    "\n",
    "# Convert the encoded data into a DataFrame\n",
    "position_encoded_df = pd.DataFrame(\n",
    "    position_encoded, \n",
    "    columns=position_encoder.get_feature_names_out(['position'])\n",
    ")\n",
    "\n",
    "# Reset the index of the encoded DataFrame to match df_clustering\n",
    "position_encoded_df.index = df_clustering.index\n",
    "\n",
    "# Concatenate the encoded columns back to the main DataFrame\n",
    "df_clustering = pd.concat([df_clustering, position_encoded_df], axis=1)\n",
    "\n",
    "# Drop the original position column\n",
    "df_clustering.drop(columns=['position'], inplace=True)\n",
    "\n",
    "# Confirm the updated DataFrame\n",
    "print(\"Updated df_clustering with one-hot encoded 'position':\")\n",
    "print(df_clustering.head())\n"
   ]
  },
  {
   "cell_type": "code",
   "execution_count": 195,
   "metadata": {},
   "outputs": [
    {
     "name": "stdout",
     "output_type": "stream",
     "text": [
      "Updated df_clustering with encoded 'under_pressure' and 'pass_goal_assist':\n",
      "   under_pressure  pass_goal_assist\n",
      "0               0                 0\n",
      "1               0                 0\n",
      "2               0                 0\n",
      "3               0                 0\n",
      "4               0                 0\n"
     ]
    }
   ],
   "source": [
    "# Encode the 'under_pressure' column: True -> 1, NaN -> 0\n",
    "df_clustering['under_pressure'] = df_clustering['under_pressure'].apply(lambda x: 1 if x == True else 0)\n",
    "\n",
    "# Encode the 'pass_goal_assist' column: True -> 1, NaN -> 0\n",
    "df_clustering['pass_goal_assist'] = df_clustering['pass_goal_assist'].apply(lambda x: 1 if x == True else 0)\n",
    "\n",
    "# Check the updated DataFrame to ensure proper encoding\n",
    "print(\"Updated df_clustering with encoded 'under_pressure' and 'pass_goal_assist':\")\n",
    "print(df_clustering[['under_pressure', 'pass_goal_assist']].head())\n"
   ]
  },
  {
   "cell_type": "code",
   "execution_count": 199,
   "metadata": {},
   "outputs": [],
   "source": [
    "# finally, put it all in the csv again to visualize encoded features\n",
    "df_clustering.to_csv('df_clustering.csv', index=False)"
   ]
  },
  {
   "cell_type": "code",
   "execution_count": 216,
   "metadata": {},
   "outputs": [
    {
     "name": "stdout",
     "output_type": "stream",
     "text": [
      "Cosine distance matrix shape: (7175, 7175)\n"
     ]
    }
   ],
   "source": [
    "from sklearn.metrics.pairwise import cosine_distances\n",
    "from scipy.spatial.distance import squareform\n",
    "\n",
    "# Compute cosine similarity\n",
    "cosine_dist = cosine_distances(df_clustering)\n",
    "\n",
    "# Check the cosine distance\n",
    "print(f\"Cosine distance matrix shape: {cosine_dist.shape}\")\n"
   ]
  },
  {
   "cell_type": "code",
   "execution_count": 217,
   "metadata": {},
   "outputs": [
    {
     "data": {
      "image/png": "[encoded data removed]",
      "text/plain": [
       "<Figure size 1000x700 with 1 Axes>"
      ]
     },
     "metadata": {},
     "output_type": "display_data"
    }
   ],
   "source": [
    "import scipy.cluster.hierarchy as sch\n",
    "import matplotlib.pyplot as plt\n",
    "\n",
    "# Perform hierarchical/agglomerative clustering using the cosine distance\n",
    "linked = sch.linkage(squareform(cosine_dist), method='average')\n",
    "\n",
    "# Plot the dendrogram\n",
    "plt.figure(figsize=(10, 7))\n",
    "sch.dendrogram(linked)\n",
    "plt.title('Hierarchical Clustering Dendrogram')\n",
    "plt.xlabel('Index')\n",
    "plt.ylabel('Distance')\n",
    "plt.show()\n"
   ]
  }
 ],
 "metadata": {
  "kernelspec": {
   "display_name": "Python 3",
   "language": "python",
   "name": "python3"
  },
  "language_info": {
   "codemirror_mode": {
    "name": "ipython",
    "version": 3
   },
   "file_extension": ".py",
   "mimetype": "text/x-python",
   "name": "python",
   "nbconvert_exporter": "python",
   "pygments_lexer": "ipython3",
   "version": "3.11.4"
  }
 },
 "nbformat": 4,
 "nbformat_minor": 2
}
